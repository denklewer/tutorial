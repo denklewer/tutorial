{
  "nbformat": 4,
  "nbformat_minor": 0,
  "metadata": {
    "colab": {
      "name": "exercise05-Actor_Handles.ipynb",
      "version": "0.3.2",
      "provenance": []
    },
    "language_info": {
      "codemirror_mode": {
        "name": "ipython",
        "version": 3
      },
      "file_extension": ".py",
      "mimetype": "text/x-python",
      "name": "python",
      "nbconvert_exporter": "python",
      "pygments_lexer": "ipython3",
      "version": "3.6.1"
    },
    "kernelspec": {
      "display_name": "Python 3",
      "language": "python",
      "name": "python3"
    }
  },
  "cells": [
    {
      "cell_type": "markdown",
      "metadata": {
        "id": "7YFEErTRbEEn",
        "colab_type": "text"
      },
      "source": [
        "# Exercise 5 - Actor Handles\n",
        "\n",
        "**GOAL:** The goal of this exercise is to show how to pass around actor handles.\n",
        "\n",
        "Suppose we wish to have multiple tasks invoke methods on the same actor. For example, we may have a single actor that records logging information from a number of tasks. We can achieve this by passing a handle to the actor as an argument into the relevant tasks.\n",
        "\n",
        "### Concepts for this Exercise - Actor  Handles\n",
        "\n",
        "First of all, suppose we've created an actor as follows.\n",
        "\n",
        "```python\n",
        "@ray.remote\n",
        "class Actor(object):\n",
        "    def method(self):\n",
        "        pass\n",
        "\n",
        "# Create the actor\n",
        "actor = Actor.remote()\n",
        "```\n",
        "\n",
        "Then we can define a remote function (or another actor) that takes an actor handle as an argument.\n",
        "\n",
        "```python\n",
        "@ray.remote\n",
        "def f(actor):\n",
        "    # We can invoke methods on the actor.\n",
        "    x_id = actor.method.remote()\n",
        "    # We can block and get the results.\n",
        "    return ray.get(x_id)\n",
        "```\n",
        "\n",
        "Then we can invoke the remote function a few times and pass in the actor handle.\n",
        "\n",
        "```python\n",
        "# Each of the three tasks created below will invoke methods on the same actor.\n",
        "f.remote(actor)\n",
        "f.remote(actor)\n",
        "f.remote(actor)\n",
        "```"
      ]
    },
    {
      "cell_type": "code",
      "metadata": {
        "id": "hjOXvUDQbXVZ",
        "colab_type": "code",
        "colab": {
          "base_uri": "https://localhost:8080/",
          "height": 35
        },
        "outputId": "8134d243-2378-4b6a-eb09-3379ef918165"
      },
      "source": [
        "import os\n",
        "os.system('pip install ray')"
      ],
      "execution_count": 1,
      "outputs": [
        {
          "output_type": "execute_result",
          "data": {
            "text/plain": [
              "0"
            ]
          },
          "metadata": {
            "tags": []
          },
          "execution_count": 1
        }
      ]
    },
    {
      "cell_type": "code",
      "metadata": {
        "id": "whjv8i87bEEv",
        "colab_type": "code",
        "colab": {}
      },
      "source": [
        "from __future__ import absolute_import\n",
        "from __future__ import division\n",
        "from __future__ import print_function\n",
        "\n",
        "from collections import defaultdict\n",
        "import ray\n",
        "import time"
      ],
      "execution_count": 0,
      "outputs": []
    },
    {
      "cell_type": "code",
      "metadata": {
        "id": "S0qjnyhdbEE6",
        "colab_type": "code",
        "colab": {
          "base_uri": "https://localhost:8080/",
          "height": 255
        },
        "outputId": "001c12c3-0e6c-4b8d-95cd-3bf1723ac066"
      },
      "source": [
        "ray.init(num_cpus=4, include_webui=False, ignore_reinit_error=True)"
      ],
      "execution_count": 3,
      "outputs": [
        {
          "output_type": "stream",
          "text": [
            "2019-05-16 11:36:41,713\tWARNING worker.py:1337 -- WARNING: Not updating worker name since `setproctitle` is not installed. Install this with `pip install setproctitle` (or ray[debug]) to enable monitoring of worker processes.\n",
            "2019-05-16 11:36:41,721\tINFO node.py:469 -- Process STDOUT and STDERR is being redirected to /tmp/ray/session_2019-05-16_11-36-41_133/logs.\n",
            "2019-05-16 11:36:41,833\tINFO services.py:407 -- Waiting for redis server at 127.0.0.1:62667 to respond...\n",
            "2019-05-16 11:36:41,975\tINFO services.py:407 -- Waiting for redis server at 127.0.0.1:14155 to respond...\n",
            "2019-05-16 11:36:41,979\tINFO services.py:804 -- Starting Redis shard with 2.58 GB max memory.\n",
            "2019-05-16 11:36:42,014\tINFO node.py:483 -- Process STDOUT and STDERR is being redirected to /tmp/ray/session_2019-05-16_11-36-41_133/logs.\n",
            "2019-05-16 11:36:42,017\tINFO services.py:1427 -- Starting the Plasma object store with 3.87 GB memory using /dev/shm.\n"
          ],
          "name": "stderr"
        },
        {
          "output_type": "execute_result",
          "data": {
            "text/plain": [
              "{'node_ip_address': '172.28.0.2',\n",
              " 'object_store_address': '/tmp/ray/session_2019-05-16_11-36-41_133/sockets/plasma_store',\n",
              " 'raylet_socket_name': '/tmp/ray/session_2019-05-16_11-36-41_133/sockets/raylet',\n",
              " 'redis_address': '172.28.0.2:62667',\n",
              " 'webui_url': None}"
            ]
          },
          "metadata": {
            "tags": []
          },
          "execution_count": 3
        }
      ]
    },
    {
      "cell_type": "markdown",
      "metadata": {
        "id": "I9F8JPQMbEFE",
        "colab_type": "text"
      },
      "source": [
        "In this exercise, we're going to write some code that runs several \"experiments\" in parallel and has each experiment log its results to an actor. The driver script can then periodically pull the results from the logging actor.\n",
        "\n",
        "**EXERCISE:** Turn this `LoggingActor` class into an actor class."
      ]
    },
    {
      "cell_type": "code",
      "metadata": {
        "id": "-fdwkfeCbEFG",
        "colab_type": "code",
        "colab": {}
      },
      "source": [
        "@ray.remote\n",
        "class LoggingActor(object):\n",
        "    def __init__(self):\n",
        "        self.logs = defaultdict(lambda: [])\n",
        "    \n",
        "    def log(self, index, message):\n",
        "        self.logs[index].append(message)\n",
        "    \n",
        "    def get_logs(self):\n",
        "        return dict(self.logs)\n",
        "\n",
        "\n",
        "assert hasattr(LoggingActor, 'remote'), ('You need to turn LoggingActor into an '\n",
        "                                         'actor (by using the ray.remote keyword).')"
      ],
      "execution_count": 0,
      "outputs": []
    },
    {
      "cell_type": "markdown",
      "metadata": {
        "id": "MLbWagnBbEFU",
        "colab_type": "text"
      },
      "source": [
        "**EXERCISE:** Instantiate the actor."
      ]
    },
    {
      "cell_type": "code",
      "metadata": {
        "id": "15_HNgmQbEFb",
        "colab_type": "code",
        "colab": {}
      },
      "source": [
        "logging_actor = LoggingActor.remote()\n",
        "\n",
        "# Some checks to make sure this was done correctly.\n",
        "assert hasattr(logging_actor, 'get_logs')"
      ],
      "execution_count": 0,
      "outputs": []
    },
    {
      "cell_type": "markdown",
      "metadata": {
        "id": "Pq8ElFdEbEFk",
        "colab_type": "text"
      },
      "source": [
        "Now we define a remote function that runs and pushes its logs to the `LoggingActor`.\n",
        "\n",
        "**EXERCISE:** Modify this function so that it invokes methods correctly on `logging_actor` (you need to change the way you call the `log` method)."
      ]
    },
    {
      "cell_type": "code",
      "metadata": {
        "id": "bwhe8ebSbEFn",
        "colab_type": "code",
        "colab": {}
      },
      "source": [
        "@ray.remote\n",
        "def run_experiment(experiment_index, logging_actor):\n",
        "    for i in range(60):\n",
        "        time.sleep(1)\n",
        "        # Push a logging message to the actor.\n",
        "        logging_actor.log.remote(experiment_index, 'On iteration {}'.format(i))"
      ],
      "execution_count": 0,
      "outputs": []
    },
    {
      "cell_type": "markdown",
      "metadata": {
        "id": "nueK_7n8bEFs",
        "colab_type": "text"
      },
      "source": [
        "Now we create several tasks that use the logging actor."
      ]
    },
    {
      "cell_type": "code",
      "metadata": {
        "id": "KZ9UN21NbEFw",
        "colab_type": "code",
        "colab": {}
      },
      "source": [
        "experiment_ids = [run_experiment.remote(i, logging_actor) for i in range(3)]"
      ],
      "execution_count": 0,
      "outputs": []
    },
    {
      "cell_type": "markdown",
      "metadata": {
        "id": "xf85WvaybEF-",
        "colab_type": "text"
      },
      "source": [
        "While the experiments are running in the background, the driver process (that is, this Jupyter notebook) can query the actor to read the logs.\n",
        "\n",
        "**EXERCISE:** Modify the code below to dispatch methods to the `LoggingActor`."
      ]
    },
    {
      "cell_type": "code",
      "metadata": {
        "id": "LXoyMLXdbEGA",
        "colab_type": "code",
        "colab": {
          "base_uri": "https://localhost:8080/",
          "height": 3287
        },
        "outputId": "b10e3663-8cb5-4f56-b033-3d153f476ba2"
      },
      "source": [
        "logs = logging_actor.get_logs.remote()\n",
        "logs = ray.get(logs)\n",
        "assert isinstance(logs, dict), (\"Make sure that you dispatch tasks to the \"\n",
        "                                \"actor using the .remote keyword and get the results using ray.get.\")\n",
        "logs"
      ],
      "execution_count": 9,
      "outputs": [
        {
          "output_type": "execute_result",
          "data": {
            "text/plain": [
              "{0: ['On iteration 0',\n",
              "  'On iteration 1',\n",
              "  'On iteration 2',\n",
              "  'On iteration 3',\n",
              "  'On iteration 4',\n",
              "  'On iteration 5',\n",
              "  'On iteration 6',\n",
              "  'On iteration 7',\n",
              "  'On iteration 8',\n",
              "  'On iteration 9',\n",
              "  'On iteration 10',\n",
              "  'On iteration 11',\n",
              "  'On iteration 12',\n",
              "  'On iteration 13',\n",
              "  'On iteration 14',\n",
              "  'On iteration 15',\n",
              "  'On iteration 16',\n",
              "  'On iteration 17',\n",
              "  'On iteration 18',\n",
              "  'On iteration 19',\n",
              "  'On iteration 20',\n",
              "  'On iteration 21',\n",
              "  'On iteration 22',\n",
              "  'On iteration 23',\n",
              "  'On iteration 24',\n",
              "  'On iteration 25',\n",
              "  'On iteration 26',\n",
              "  'On iteration 27',\n",
              "  'On iteration 28',\n",
              "  'On iteration 29',\n",
              "  'On iteration 30',\n",
              "  'On iteration 31',\n",
              "  'On iteration 32',\n",
              "  'On iteration 33',\n",
              "  'On iteration 34',\n",
              "  'On iteration 35',\n",
              "  'On iteration 36',\n",
              "  'On iteration 37',\n",
              "  'On iteration 38',\n",
              "  'On iteration 39',\n",
              "  'On iteration 40',\n",
              "  'On iteration 41',\n",
              "  'On iteration 42',\n",
              "  'On iteration 43',\n",
              "  'On iteration 44',\n",
              "  'On iteration 45',\n",
              "  'On iteration 46',\n",
              "  'On iteration 47',\n",
              "  'On iteration 48',\n",
              "  'On iteration 49',\n",
              "  'On iteration 50',\n",
              "  'On iteration 51',\n",
              "  'On iteration 52',\n",
              "  'On iteration 53',\n",
              "  'On iteration 54',\n",
              "  'On iteration 55',\n",
              "  'On iteration 56',\n",
              "  'On iteration 57',\n",
              "  'On iteration 58',\n",
              "  'On iteration 59'],\n",
              " 1: ['On iteration 0',\n",
              "  'On iteration 1',\n",
              "  'On iteration 2',\n",
              "  'On iteration 3',\n",
              "  'On iteration 4',\n",
              "  'On iteration 5',\n",
              "  'On iteration 6',\n",
              "  'On iteration 7',\n",
              "  'On iteration 8',\n",
              "  'On iteration 9',\n",
              "  'On iteration 10',\n",
              "  'On iteration 11',\n",
              "  'On iteration 12',\n",
              "  'On iteration 13',\n",
              "  'On iteration 14',\n",
              "  'On iteration 15',\n",
              "  'On iteration 16',\n",
              "  'On iteration 17',\n",
              "  'On iteration 18',\n",
              "  'On iteration 19',\n",
              "  'On iteration 20',\n",
              "  'On iteration 21',\n",
              "  'On iteration 22',\n",
              "  'On iteration 23',\n",
              "  'On iteration 24',\n",
              "  'On iteration 25',\n",
              "  'On iteration 26',\n",
              "  'On iteration 27',\n",
              "  'On iteration 28',\n",
              "  'On iteration 29',\n",
              "  'On iteration 30',\n",
              "  'On iteration 31',\n",
              "  'On iteration 32',\n",
              "  'On iteration 33',\n",
              "  'On iteration 34',\n",
              "  'On iteration 35',\n",
              "  'On iteration 36',\n",
              "  'On iteration 37',\n",
              "  'On iteration 38',\n",
              "  'On iteration 39',\n",
              "  'On iteration 40',\n",
              "  'On iteration 41',\n",
              "  'On iteration 42',\n",
              "  'On iteration 43',\n",
              "  'On iteration 44',\n",
              "  'On iteration 45',\n",
              "  'On iteration 46',\n",
              "  'On iteration 47',\n",
              "  'On iteration 48',\n",
              "  'On iteration 49',\n",
              "  'On iteration 50',\n",
              "  'On iteration 51',\n",
              "  'On iteration 52',\n",
              "  'On iteration 53',\n",
              "  'On iteration 54',\n",
              "  'On iteration 55',\n",
              "  'On iteration 56',\n",
              "  'On iteration 57',\n",
              "  'On iteration 58',\n",
              "  'On iteration 59'],\n",
              " 2: ['On iteration 0',\n",
              "  'On iteration 1',\n",
              "  'On iteration 2',\n",
              "  'On iteration 3',\n",
              "  'On iteration 4',\n",
              "  'On iteration 5',\n",
              "  'On iteration 6',\n",
              "  'On iteration 7',\n",
              "  'On iteration 8',\n",
              "  'On iteration 9',\n",
              "  'On iteration 10',\n",
              "  'On iteration 11',\n",
              "  'On iteration 12',\n",
              "  'On iteration 13',\n",
              "  'On iteration 14',\n",
              "  'On iteration 15',\n",
              "  'On iteration 16',\n",
              "  'On iteration 17',\n",
              "  'On iteration 18',\n",
              "  'On iteration 19',\n",
              "  'On iteration 20',\n",
              "  'On iteration 21',\n",
              "  'On iteration 22',\n",
              "  'On iteration 23',\n",
              "  'On iteration 24',\n",
              "  'On iteration 25',\n",
              "  'On iteration 26',\n",
              "  'On iteration 27',\n",
              "  'On iteration 28',\n",
              "  'On iteration 29',\n",
              "  'On iteration 30',\n",
              "  'On iteration 31',\n",
              "  'On iteration 32',\n",
              "  'On iteration 33',\n",
              "  'On iteration 34',\n",
              "  'On iteration 35',\n",
              "  'On iteration 36',\n",
              "  'On iteration 37',\n",
              "  'On iteration 38',\n",
              "  'On iteration 39',\n",
              "  'On iteration 40',\n",
              "  'On iteration 41',\n",
              "  'On iteration 42',\n",
              "  'On iteration 43',\n",
              "  'On iteration 44',\n",
              "  'On iteration 45',\n",
              "  'On iteration 46',\n",
              "  'On iteration 47',\n",
              "  'On iteration 48',\n",
              "  'On iteration 49',\n",
              "  'On iteration 50',\n",
              "  'On iteration 51',\n",
              "  'On iteration 52',\n",
              "  'On iteration 53',\n",
              "  'On iteration 54',\n",
              "  'On iteration 55',\n",
              "  'On iteration 56',\n",
              "  'On iteration 57',\n",
              "  'On iteration 58',\n",
              "  'On iteration 59']}"
            ]
          },
          "metadata": {
            "tags": []
          },
          "execution_count": 9
        }
      ]
    },
    {
      "cell_type": "markdown",
      "metadata": {
        "id": "qqfDVZZdbEGK",
        "colab_type": "text"
      },
      "source": [
        "**EXERCISE:** Try running the above box multiple times and see how the results change (while the experiments are still running in the background). You can also try running more of the experiment tasks and see what happens."
      ]
    }
  ]
}