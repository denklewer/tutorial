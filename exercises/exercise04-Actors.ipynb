{
  "nbformat": 4,
  "nbformat_minor": 0,
  "metadata": {
    "colab": {
      "name": "exercise04-Actors.ipynb",
      "version": "0.3.2",
      "provenance": []
    },
    "language_info": {
      "codemirror_mode": {
        "name": "ipython",
        "version": 3
      },
      "file_extension": ".py",
      "mimetype": "text/x-python",
      "name": "python",
      "nbconvert_exporter": "python",
      "pygments_lexer": "ipython3",
      "version": "3.6.1"
    },
    "kernelspec": {
      "display_name": "Python 3",
      "language": "python",
      "name": "python3"
    }
  },
  "cells": [
    {
      "cell_type": "markdown",
      "metadata": {
        "id": "qYWwTI7CW5qe",
        "colab_type": "text"
      },
      "source": [
        "# Exercise 4 - Introducing Actors\n",
        "\n",
        "**Goal:** The goal of this exercise is to show how to create an actor and how to call actor methods.\n",
        "\n",
        "See the documentation on actors at http://ray.readthedocs.io/en/latest/actors.html.\n",
        "\n",
        "Sometimes you need a \"worker\" process to have \"state\". For example, that state might be a neural network, a simulator environment, a counter, or something else entirely. However, remote functions are side-effect free. That is, they operate on inputs and produce outputs, but they don't change the state of the worker they execute on.\n",
        "\n",
        "Actors are different. When we instantiate an actor, a brand new worker is created, and all methods that are called on that actor are executed on the newly created worker.\n",
        "\n",
        "This means that with a single actor, no parallelism can be achieved because calls to the actor's methods will be executed one at a time. However, multiple actors can be created and methods can be executed on them in parallel.\n",
        "\n",
        "### Concepts for this Exercise - Actors\n",
        "\n",
        "To create an actor, decorate Python class with the `@ray.remote` decorator.\n",
        "\n",
        "```python\n",
        "@ray.remote\n",
        "class Example(object):\n",
        "    def __init__(self, x):\n",
        "        self.x = x\n",
        "    \n",
        "    def set(self, x):\n",
        "        self.x = x\n",
        "    \n",
        "    def get(self):\n",
        "        return self.x\n",
        "```\n",
        "\n",
        "Like regular Python classes, **actors encapsulate state that is shared across actor method invocations**.\n",
        "\n",
        "Actor classes differ from regular Python classes in the following ways.\n",
        "1. **Instantiation:** A regular class would be instantiated via `e = Example(1)`. Actors are instantiated via\n",
        "    ```python\n",
        "    e = Example.remote(1)\n",
        "    ```\n",
        "    When an actor is instantiated, a **new worker process** is created by a local scheduler somewhere in the cluster.\n",
        "2. **Method Invocation:** Methods of a regular class would be invoked via `e.set(2)` or `e.get()`. Actor methods are invoked differently.\n",
        "    ```python\n",
        "    >>> e.set.remote(2)\n",
        "    ObjectID(d966aa9b6486331dc2257522734a69ff603e5a1c)\n",
        "    \n",
        "    >>> e.get.remote()\n",
        "    ObjectID(7c432c085864ed4c7c18cf112377a608676afbc3)\n",
        "    ```\n",
        "3. **Return Values:** Actor methods are non-blocking. They immediately return an object ID and **they create a task which is scheduled on the actor worker**. The result can be retrieved with `ray.get`.\n",
        "    ```python\n",
        "    >>> ray.get(e.set.remote(2))\n",
        "    None\n",
        "    \n",
        "    >>> ray.get(e.get.remote())\n",
        "    2\n",
        "    ```"
      ]
    },
    {
      "cell_type": "code",
      "metadata": {
        "id": "BO0NxtbcXOzq",
        "colab_type": "code",
        "colab": {
          "base_uri": "https://localhost:8080/",
          "height": 35
        },
        "outputId": "4bceb516-0e59-475e-82db-2aebead3a9ff"
      },
      "source": [
        "\n",
        "import os\n",
        "os.system('pip install ray')"
      ],
      "execution_count": 1,
      "outputs": [
        {
          "output_type": "execute_result",
          "data": {
            "text/plain": [
              "0"
            ]
          },
          "metadata": {
            "tags": []
          },
          "execution_count": 1
        }
      ]
    },
    {
      "cell_type": "code",
      "metadata": {
        "id": "3zAhlQFSW5qn",
        "colab_type": "code",
        "colab": {}
      },
      "source": [
        "from __future__ import absolute_import\n",
        "from __future__ import division\n",
        "from __future__ import print_function\n",
        "\n",
        "import numpy as np\n",
        "import ray\n",
        "import time"
      ],
      "execution_count": 0,
      "outputs": []
    },
    {
      "cell_type": "code",
      "metadata": {
        "id": "SIQMenoCW5q5",
        "colab_type": "code",
        "colab": {
          "base_uri": "https://localhost:8080/",
          "height": 255
        },
        "outputId": "fff2d976-fc38-4445-8109-cbae06138787"
      },
      "source": [
        "ray.init(num_cpus=4, include_webui=False, ignore_reinit_error=True)"
      ],
      "execution_count": 3,
      "outputs": [
        {
          "output_type": "stream",
          "text": [
            "2019-05-16 11:18:38,007\tWARNING worker.py:1337 -- WARNING: Not updating worker name since `setproctitle` is not installed. Install this with `pip install setproctitle` (or ray[debug]) to enable monitoring of worker processes.\n",
            "2019-05-16 11:18:38,012\tINFO node.py:469 -- Process STDOUT and STDERR is being redirected to /tmp/ray/session_2019-05-16_11-18-38_130/logs.\n",
            "2019-05-16 11:18:38,131\tINFO services.py:407 -- Waiting for redis server at 127.0.0.1:51225 to respond...\n",
            "2019-05-16 11:18:38,263\tINFO services.py:407 -- Waiting for redis server at 127.0.0.1:46387 to respond...\n",
            "2019-05-16 11:18:38,267\tINFO services.py:804 -- Starting Redis shard with 2.58 GB max memory.\n",
            "2019-05-16 11:18:38,308\tINFO node.py:483 -- Process STDOUT and STDERR is being redirected to /tmp/ray/session_2019-05-16_11-18-38_130/logs.\n",
            "2019-05-16 11:18:38,314\tINFO services.py:1427 -- Starting the Plasma object store with 3.87 GB memory using /dev/shm.\n"
          ],
          "name": "stderr"
        },
        {
          "output_type": "execute_result",
          "data": {
            "text/plain": [
              "{'node_ip_address': '172.28.0.2',\n",
              " 'object_store_address': '/tmp/ray/session_2019-05-16_11-18-38_130/sockets/plasma_store',\n",
              " 'raylet_socket_name': '/tmp/ray/session_2019-05-16_11-18-38_130/sockets/raylet',\n",
              " 'redis_address': '172.28.0.2:51225',\n",
              " 'webui_url': None}"
            ]
          },
          "metadata": {
            "tags": []
          },
          "execution_count": 3
        }
      ]
    },
    {
      "cell_type": "markdown",
      "metadata": {
        "id": "X_p7WD_vW5rE",
        "colab_type": "text"
      },
      "source": [
        "**EXERCISE:** Change the `Foo` class to be an actor class by using the `@ray.remote` decorator."
      ]
    },
    {
      "cell_type": "code",
      "metadata": {
        "id": "gehvixcBW5rI",
        "colab_type": "code",
        "colab": {}
      },
      "source": [
        "@ray.remote\n",
        "class Foo(object):\n",
        "    def __init__(self):\n",
        "        self.counter = 0\n",
        "\n",
        "    def reset(self):\n",
        "        self.counter = 0\n",
        "\n",
        "    def increment(self):\n",
        "        time.sleep(0.5)\n",
        "        self.counter += 1\n",
        "        return self.counter\n",
        "\n",
        "assert hasattr(Foo, 'remote'), 'You need to turn \"Foo\" into an actor with @ray.remote.'"
      ],
      "execution_count": 0,
      "outputs": []
    },
    {
      "cell_type": "markdown",
      "metadata": {
        "id": "ActvsxRVW5rQ",
        "colab_type": "text"
      },
      "source": [
        "**EXERCISE:** Change the intantiations below to create two actors by calling `Foo.remote()`."
      ]
    },
    {
      "cell_type": "code",
      "metadata": {
        "id": "2qloZGGzW5rT",
        "colab_type": "code",
        "colab": {}
      },
      "source": [
        "# Create two Foo objects.\n",
        "f1 = Foo.remote()\n",
        "f2 = Foo.remote()"
      ],
      "execution_count": 0,
      "outputs": []
    },
    {
      "cell_type": "markdown",
      "metadata": {
        "id": "xxw32x1ZW5rZ",
        "colab_type": "text"
      },
      "source": [
        "**EXERCISE:** Parallelize the code below. The two actors can execute methods in parallel (though each actor can only execute one method at a time)."
      ]
    },
    {
      "cell_type": "code",
      "metadata": {
        "id": "oUCHAcx0W5rb",
        "colab_type": "code",
        "colab": {}
      },
      "source": [
        "# Sleep a little to improve the accuracy of the timing measurements below.\n",
        "time.sleep(2.0)\n",
        "start_time = time.time()\n",
        "\n",
        "# Reset the actor state so that we can run this cell multiple times without\n",
        "# changing the results.\n",
        "f1.reset.remote()\n",
        "f2.reset.remote()\n",
        "\n",
        "# We want to parallelize this code. However, it is not straightforward to\n",
        "# make \"increment\" a remote function, because state is shared (the value of\n",
        "# \"self.counter\") between subsequent calls to \"increment\". In this case, it\n",
        "# makes sense to use actors.\n",
        "results = []\n",
        "for _ in range(5):\n",
        "    results.append(f1.increment.remote())\n",
        "    results.append(f2.increment.remote())\n",
        "results = ray.get(results)\n",
        "end_time = time.time()\n",
        "duration = end_time - start_time\n",
        "\n",
        "assert not any([isinstance(result, ray.ObjectID) for result in results]), 'Looks like \"results\" is {}. You may have forgotten to call ray.get.'.format(results)"
      ],
      "execution_count": 0,
      "outputs": []
    },
    {
      "cell_type": "markdown",
      "metadata": {
        "id": "nB8-cXILW5rk",
        "colab_type": "text"
      },
      "source": [
        "**VERIFY:** Run some checks to verify that the changes you made to the code were correct. Some of the checks should fail when you initially run the cells. After completing the exercises, the checks should pass."
      ]
    },
    {
      "cell_type": "code",
      "metadata": {
        "id": "JZYMHLOPW5rm",
        "colab_type": "code",
        "colab": {
          "base_uri": "https://localhost:8080/",
          "height": 35
        },
        "outputId": "5373a647-3c00-4462-ba78-71a44e1ce644"
      },
      "source": [
        "assert results == [1, 1, 2, 2, 3, 3, 4, 4, 5, 5]\n",
        "\n",
        "assert duration < 3, ('The experiments ran in {} seconds. This is too '\n",
        "                      'slow.'.format(duration))\n",
        "assert duration > 2.5, ('The experiments ran in {} seconds. This is too '\n",
        "                        'fast.'.format(duration))\n",
        "\n",
        "print('Success! The example took {} seconds.'.format(duration))"
      ],
      "execution_count": 11,
      "outputs": [
        {
          "output_type": "stream",
          "text": [
            "Success! The example took 2.516829490661621 seconds.\n"
          ],
          "name": "stdout"
        }
      ]
    },
    {
      "cell_type": "code",
      "metadata": {
        "id": "1x0QjfjXW5r1",
        "colab_type": "code",
        "colab": {}
      },
      "source": [
        ""
      ],
      "execution_count": 0,
      "outputs": []
    }
  ]
}