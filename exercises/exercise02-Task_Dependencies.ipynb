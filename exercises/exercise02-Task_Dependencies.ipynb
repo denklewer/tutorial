{
  "nbformat": 4,
  "nbformat_minor": 0,
  "metadata": {
    "colab": {
      "name": "exercise02-Task_Dependencies.ipynb",
      "version": "0.3.2",
      "provenance": []
    },
    "language_info": {
      "codemirror_mode": {
        "name": "ipython",
        "version": 3
      },
      "file_extension": ".py",
      "mimetype": "text/x-python",
      "name": "python",
      "nbconvert_exporter": "python",
      "pygments_lexer": "ipython3",
      "version": "3.6.1"
    },
    "kernelspec": {
      "display_name": "Python 3",
      "language": "python",
      "name": "python3"
    }
  },
  "cells": [
    {
      "cell_type": "markdown",
      "metadata": {
        "id": "dV1_MaanML1j",
        "colab_type": "text"
      },
      "source": [
        "# Exercise 2 - Parallel Data Processing with Task Dependencies\n",
        "\n",
        "**GOAL:** The goal of this exercise is to show how to pass object IDs into remote functions to encode dependencies between tasks.\n",
        "\n",
        "In this exercise, we construct a sequence of tasks each of which depends on the previous mimicking a data parallel application. Within each sequence, tasks are executed serially, but multiple sequences can be executed in parallel.\n",
        "\n",
        "In this exercise, you will use Ray to parallelize the computation below and speed it up.\n",
        "\n",
        "### Concept for this Exercise - Task Dependencies\n",
        "\n",
        "Suppose we have two remote functions defined as follows.\n",
        "\n",
        "```python\n",
        "@ray.remote\n",
        "def f(x):\n",
        "    return x\n",
        "```\n",
        "\n",
        "Arguments can be passed into remote functions as usual.\n",
        "\n",
        "```python\n",
        ">>> x1_id = f.remote(1)\n",
        ">>> ray.get(x1_id)\n",
        "1\n",
        "\n",
        ">>> x2_id = f.remote([1, 2, 3])\n",
        ">>> ray.get(x2_id)\n",
        "[1, 2, 3]\n",
        "```\n",
        "\n",
        "**Object IDs** can also be passed into remote functions. When the function actually gets executed, **the argument will be a retrieved as a regular Python object**.\n",
        "\n",
        "```python\n",
        ">>> y1_id = f.remote(x1_id)\n",
        ">>> ray.get(y1_id)\n",
        "1\n",
        "\n",
        ">>> y2_id = f.remote(x2_id)\n",
        ">>> ray.get(y2_id)\n",
        "[1, 2, 3]\n",
        "```\n",
        "\n",
        "So when implementing a remote function, the function should expect a regular Python object regardless of whether the caller passes in a regular Python object or an object ID.\n",
        "\n",
        "**Task dependencies affect scheduling.** In the example above, the task that creates `y1_id` depends on the task that creates `x1_id`. This has the following implications.\n",
        "\n",
        "- The second task will not be executed until the first task has finished executing.\n",
        "- If the two tasks are scheduled on different machines, the output of the first task (the value corresponding to `x1_id`) will be copied over the network to the machine where the second task is scheduled."
      ]
    },
    {
      "cell_type": "code",
      "metadata": {
        "id": "PCU6I92NMOjV",
        "colab_type": "code",
        "colab": {
          "base_uri": "https://localhost:8080/",
          "height": 35
        },
        "outputId": "2b37d8b5-9a3a-4acf-a6b4-d1ad8ac53570"
      },
      "source": [
        "import os\n",
        "os.system('pip install ray')"
      ],
      "execution_count": 1,
      "outputs": [
        {
          "output_type": "execute_result",
          "data": {
            "text/plain": [
              "0"
            ]
          },
          "metadata": {
            "tags": []
          },
          "execution_count": 1
        }
      ]
    },
    {
      "cell_type": "code",
      "metadata": {
        "id": "rAJVGFYFML1n",
        "colab_type": "code",
        "colab": {}
      },
      "source": [
        "from __future__ import absolute_import\n",
        "from __future__ import division\n",
        "from __future__ import print_function\n",
        "\n",
        "import numpy as np\n",
        "import ray\n",
        "import time"
      ],
      "execution_count": 0,
      "outputs": []
    },
    {
      "cell_type": "code",
      "metadata": {
        "id": "-GESU5NoML12",
        "colab_type": "code",
        "colab": {
          "base_uri": "https://localhost:8080/",
          "height": 255
        },
        "outputId": "dd9ddc95-d0e9-460a-d714-126cf9603618"
      },
      "source": [
        "ray.init(num_cpus=4, include_webui=False, ignore_reinit_error=True)"
      ],
      "execution_count": 3,
      "outputs": [
        {
          "output_type": "stream",
          "text": [
            "2019-05-16 10:30:34,904\tWARNING worker.py:1337 -- WARNING: Not updating worker name since `setproctitle` is not installed. Install this with `pip install setproctitle` (or ray[debug]) to enable monitoring of worker processes.\n",
            "2019-05-16 10:30:34,908\tINFO node.py:469 -- Process STDOUT and STDERR is being redirected to /tmp/ray/session_2019-05-16_10-30-34_129/logs.\n",
            "2019-05-16 10:30:35,025\tINFO services.py:407 -- Waiting for redis server at 127.0.0.1:31503 to respond...\n",
            "2019-05-16 10:30:35,161\tINFO services.py:407 -- Waiting for redis server at 127.0.0.1:44568 to respond...\n",
            "2019-05-16 10:30:35,168\tINFO services.py:804 -- Starting Redis shard with 2.58 GB max memory.\n",
            "2019-05-16 10:30:35,206\tINFO node.py:483 -- Process STDOUT and STDERR is being redirected to /tmp/ray/session_2019-05-16_10-30-34_129/logs.\n",
            "2019-05-16 10:30:35,211\tINFO services.py:1427 -- Starting the Plasma object store with 3.87 GB memory using /dev/shm.\n"
          ],
          "name": "stderr"
        },
        {
          "output_type": "execute_result",
          "data": {
            "text/plain": [
              "{'node_ip_address': '172.28.0.2',\n",
              " 'object_store_address': '/tmp/ray/session_2019-05-16_10-30-34_129/sockets/plasma_store',\n",
              " 'raylet_socket_name': '/tmp/ray/session_2019-05-16_10-30-34_129/sockets/raylet',\n",
              " 'redis_address': '172.28.0.2:31503',\n",
              " 'webui_url': None}"
            ]
          },
          "metadata": {
            "tags": []
          },
          "execution_count": 3
        }
      ]
    },
    {
      "cell_type": "markdown",
      "metadata": {
        "id": "Rk50tJzCML19",
        "colab_type": "text"
      },
      "source": [
        "These are some helper functions that mimic an example pattern of a data parallel application.\n",
        "\n",
        "**EXERCISE:** You will need to turn all of these functions into remote functions. When you turn these functions into remote function, you do not have to worry about whether the caller passes in an object ID or a regular object. In both cases, the arguments will be regular objects when the function executes. This means that even if you pass in an object ID, you **do not need to call `ray.get`** inside of these remote functions."
      ]
    },
    {
      "cell_type": "code",
      "metadata": {
        "id": "Jb-FuBfRML2B",
        "colab_type": "code",
        "colab": {}
      },
      "source": [
        "@ray.remote\n",
        "def load_data(filename):\n",
        "    time.sleep(0.1)\n",
        "    return np.ones((1000, 100))\n",
        "  \n",
        "@ray.remote\n",
        "def normalize_data(data):\n",
        "    time.sleep(0.1)\n",
        "    return data - np.mean(data, axis=0)\n",
        "\n",
        "@ray.remote\n",
        "def extract_features(normalized_data):\n",
        "    time.sleep(0.1)\n",
        "    return np.hstack([normalized_data, normalized_data ** 2])\n",
        "\n",
        "@ray.remote\n",
        "def compute_loss(features):\n",
        "    num_data, dim = features.shape\n",
        "    time.sleep(0.1)\n",
        "    return np.sum((np.dot(features, np.ones(dim)) - np.ones(num_data)) ** 2)\n",
        "\n",
        "assert hasattr(load_data, 'remote'), 'load_data must be a remote function'\n",
        "assert hasattr(normalize_data, 'remote'), 'normalize_data must be a remote function'\n",
        "assert hasattr(extract_features, 'remote'), 'extract_features must be a remote function'\n",
        "assert hasattr(compute_loss, 'remote'), 'compute_loss must be a remote function'"
      ],
      "execution_count": 0,
      "outputs": []
    },
    {
      "cell_type": "markdown",
      "metadata": {
        "id": "uk4nCE4PML2L",
        "colab_type": "text"
      },
      "source": [
        "**EXERCISE:** The loop below takes too long. Parallelize the four passes through the loop by turning `load_data`, `normalize_data`, `extract_features`, and `compute_loss` into remote functions and then retrieving the losses with `ray.get`.\n",
        "\n",
        "**NOTE:** You should only use **ONE** call to `ray.get`. For example, the object ID returned by `load_data` should be passed directly into `normalize_data` without needing to be retrieved by the driver."
      ]
    },
    {
      "cell_type": "code",
      "metadata": {
        "id": "ebdRDdaFML2N",
        "colab_type": "code",
        "colab": {
          "base_uri": "https://localhost:8080/",
          "height": 92
        },
        "outputId": "fcae1db5-5cee-415b-82f0-6cf33584814c"
      },
      "source": [
        "# Sleep a little to improve the accuracy of the timing measurements below.\n",
        "time.sleep(2.0)\n",
        "start_time = time.time()\n",
        "\n",
        "losses = []\n",
        "for filename in ['file1', 'file2', 'file3', 'file4']:\n",
        "    inner_start = time.time()\n",
        "\n",
        "    data = load_data.remote(filename)\n",
        "    normalized_data = normalize_data.remote(data)\n",
        "    features = extract_features.remote(normalized_data)\n",
        "    loss = compute_loss.remote(features)\n",
        "    losses.append(loss)\n",
        "    \n",
        "    inner_end = time.time()\n",
        "    \n",
        "    if inner_end - inner_start >= 0.1:\n",
        "        raise Exception('You may be calling ray.get inside of the for loop! '\n",
        "                        'Doing this will prevent parallelism from being exposed. '\n",
        "                        'Make sure to only call ray.get once outside of the for loop.')\n",
        "losses = ray.get(losses)\n",
        "print('The losses are {}.'.format(losses) + '\\n')\n",
        "loss = sum(losses)\n",
        "\n",
        "end_time = time.time()\n",
        "duration = end_time - start_time\n",
        "\n",
        "print('The loss is {}. This took {} seconds. Run the next cell to see '\n",
        "      'if the exercise was done correctly.'.format(loss, duration))"
      ],
      "execution_count": 6,
      "outputs": [
        {
          "output_type": "stream",
          "text": [
            "The losses are [1000.0, 1000.0, 1000.0, 1000.0].\n",
            "\n",
            "The loss is 4000.0. This took 0.4498169422149658 seconds. Run the next cell to see if the exercise was done correctly.\n"
          ],
          "name": "stdout"
        }
      ]
    },
    {
      "cell_type": "markdown",
      "metadata": {
        "id": "sVwe3O-fML2V",
        "colab_type": "text"
      },
      "source": [
        "**VERIFY:** Run some checks to verify that the changes you made to the code were correct. Some of the checks should fail when you initially run the cells. After completing the exercises, the checks should pass."
      ]
    },
    {
      "cell_type": "code",
      "metadata": {
        "id": "3Sy9PrudML2X",
        "colab_type": "code",
        "colab": {
          "base_uri": "https://localhost:8080/",
          "height": 35
        },
        "outputId": "f0fa2d8e-85de-454b-fe5c-b9a8a57c8981"
      },
      "source": [
        "assert loss == 4000\n",
        "assert duration < 0.8, ('The loop took {} seconds. This is too slow.'\n",
        "                        .format(duration))\n",
        "assert duration > 0.4, ('The loop took {} seconds. This is too fast.'\n",
        "                        .format(duration))\n",
        "\n",
        "print('Success! The example took {} seconds.'.format(duration))"
      ],
      "execution_count": 7,
      "outputs": [
        {
          "output_type": "stream",
          "text": [
            "Success! The example took 0.4498169422149658 seconds.\n"
          ],
          "name": "stdout"
        }
      ]
    },
    {
      "cell_type": "markdown",
      "metadata": {
        "id": "FDFBJDalML2d",
        "colab_type": "text"
      },
      "source": [
        "**EXERCISE:** Use the UI to view the task timeline and to verify that the four tasks were executed in parallel. To do this, run the following cell to generate a JSON file containing the profiling data. Open [chrome://tracing/](chrome://tracing/) in your browser, click on the \"Load\" button and load the JSON file.\n",
        "\n",
        "- Using the **second** button, you can click and drag to **move** the timeline.\n",
        "- Using the **third** button, you can click and drag to **zoom**. You can also zoom by holding \\\"alt\\\" and scrolling.\n",
        "\n",
        "**NOTE:** If you are on Binder, use the link below to download the file on you laptop (right click and select \"Save As\") and then load it in [chrome://tracing/](chrome://tracing/).\n",
        "\n",
        "**NOTE:** The timeline visualization will only work in **Chrome**."
      ]
    },
    {
      "cell_type": "code",
      "metadata": {
        "id": "tSnjDZpOML2f",
        "colab_type": "code",
        "colab": {}
      },
      "source": [
        "ray.global_state.chrome_tracing_dump(filename=\"/tmp/timeline02.json\")"
      ],
      "execution_count": 0,
      "outputs": []
    },
    {
      "cell_type": "markdown",
      "metadata": {
        "id": "QLkEPUknML2u",
        "colab_type": "text"
      },
      "source": [
        "Download link for Binder: http://localhost:8000/timeline02.json"
      ]
    },
    {
      "cell_type": "markdown",
      "metadata": {
        "id": "28f1CZg7ML2v",
        "colab_type": "text"
      },
      "source": [
        "### Application: Parallel web-scraping\n",
        "\n",
        "One useful application of what we have learned so far is to scrape information from the web. We will illustrate this in a toy setting, but the same principles apply on a large scale where crawling through websites, parsing them and extracting useful content (e.g. for building a search index or populating a database) is often very computationally demanding.\n",
        "\n",
        "We break up the process into multiple steps. We first grab the raw HTML of the website using Python's requests package. Then, we use BeautifulSoup to parse the HTML to find the relevant information. Finally, we populate a pandas DataFrames so that we are able to work with the data.\n",
        "\n",
        "To demonstrate this, we scrape google search results of ray and other related libraries to find other resources to help us learn ray and the other related libraries."
      ]
    },
    {
      "cell_type": "code",
      "metadata": {
        "id": "bhO-3pwuML20",
        "colab_type": "code",
        "colab": {}
      },
      "source": [
        "from bs4 import BeautifulSoup\n",
        "import requests\n",
        "\n",
        "import pandas as pd"
      ],
      "execution_count": 0,
      "outputs": []
    },
    {
      "cell_type": "markdown",
      "metadata": {
        "id": "5XDmb1SfML28",
        "colab_type": "text"
      },
      "source": [
        "The following function uses these libraries to submit a Google search query and parse the results."
      ]
    },
    {
      "cell_type": "code",
      "metadata": {
        "id": "JWV4bEYTML3A",
        "colab_type": "code",
        "colab": {}
      },
      "source": [
        "def query_google(keyword):\n",
        "    url = \"https://google.com/search?q={}\".format(keyword)\n",
        "    response = requests.get(url)\n",
        "    return response\n",
        "\n",
        "def parse_google_response(keyword, response):\n",
        "    soup = BeautifulSoup(response.text, 'lxml')\n",
        "    df = pd.DataFrame(columns=['title', 'link', 'description'])\n",
        "    for g in soup.find_all(class_='g'):\n",
        "        entry = {}\n",
        "        headers = g.find_all(class_='r')\n",
        "        # Sometimes results have no headers\n",
        "        if len(headers) != 1:\n",
        "            continue\n",
        "        entry['title'] = headers[0].text\n",
        "        entry['link'] = headers[0].find('a').get('href')[7:]\n",
        "        description = g.find_all(class_='st')\n",
        "        entry['description'] = description[0].text if len(description) > 0 else \"\"\n",
        "        df = df.append(pd.DataFrame(entry, index=[0]))\n",
        "    \n",
        "    df['library'] = keyword\n",
        "    return df\n",
        "  \n",
        "\n",
        "def get_results(keyword):\n",
        "    response = query_google(\"learn {}\".format(keyword))\n",
        "    return parse_google_response(keyword, response)\n",
        "  \n",
        "@ray.remote  \n",
        "def get_results_remote(keyword):\n",
        "    response = query_google(\"learn {}\".format(keyword))\n",
        "    return parse_google_response(keyword, response)"
      ],
      "execution_count": 0,
      "outputs": []
    },
    {
      "cell_type": "markdown",
      "metadata": {
        "id": "nn04EPm2ML3T",
        "colab_type": "text"
      },
      "source": [
        "Let's try this out to get results for some ray related topics serially."
      ]
    },
    {
      "cell_type": "code",
      "metadata": {
        "id": "2T5GXUEbML3W",
        "colab_type": "code",
        "colab": {
          "base_uri": "https://localhost:8080/",
          "height": 35
        },
        "outputId": "0b10eb58-b1d9-453a-c02b-e3a45b2268c5"
      },
      "source": [
        "start = time.time()\n",
        "keywords = [\"ray\", \"rllib\", \"tune\", \"modin\", \"plasma\", \"arrow\"]\n",
        "results = []\n",
        "for keyword in keywords:\n",
        "    df = get_results(keyword)\n",
        "    results.append(df)\n",
        "    \n",
        "df = pd.concat(results)\n",
        "duration = time.time() - start\n",
        "print(\"Constructing the dataframe took {} seconds.\".format(duration))"
      ],
      "execution_count": 15,
      "outputs": [
        {
          "output_type": "stream",
          "text": [
            "Constructing the dataframe took 1.9664247035980225 seconds.\n"
          ],
          "name": "stdout"
        }
      ]
    },
    {
      "cell_type": "markdown",
      "metadata": {
        "id": "UB3jkE4AML3c",
        "colab_type": "text"
      },
      "source": [
        "**EXERCISE**: Speed up the above serial query by making `get_results` a remote function in order to scrape google results in parallel. Then, see a sample of the data scraped below and feel free to play with the data to find other resources to learn more about these libraries!"
      ]
    },
    {
      "cell_type": "code",
      "metadata": {
        "id": "Y0Ux6x3kML3e",
        "colab_type": "code",
        "colab": {
          "base_uri": "https://localhost:8080/",
          "height": 3301
        },
        "outputId": "147fa200-2aec-4dfa-fe63-b17a10505d75"
      },
      "source": [
        "df"
      ],
      "execution_count": 13,
      "outputs": [
        {
          "output_type": "execute_result",
          "data": {
            "text/html": [
              "<div>\n",
              "<style scoped>\n",
              "    .dataframe tbody tr th:only-of-type {\n",
              "        vertical-align: middle;\n",
              "    }\n",
              "\n",
              "    .dataframe tbody tr th {\n",
              "        vertical-align: top;\n",
              "    }\n",
              "\n",
              "    .dataframe thead th {\n",
              "        text-align: right;\n",
              "    }\n",
              "</style>\n",
              "<table border=\"1\" class=\"dataframe\">\n",
              "  <thead>\n",
              "    <tr style=\"text-align: right;\">\n",
              "      <th></th>\n",
              "      <th>title</th>\n",
              "      <th>link</th>\n",
              "      <th>description</th>\n",
              "      <th>library</th>\n",
              "    </tr>\n",
              "  </thead>\n",
              "  <tbody>\n",
              "    <tr>\n",
              "      <th>0</th>\n",
              "      <td>Learn V-Ray | Certified online V-Ray Training</td>\n",
              "      <td>https://www.learnvray.com/&amp;sa=U&amp;ved=0ahUKEwiH8...</td>\n",
              "      <td>The official V-Ray Course - Learn how to creat...</td>\n",
              "      <td>ray</td>\n",
              "    </tr>\n",
              "    <tr>\n",
              "      <th>0</th>\n",
              "      <td>raywenderlich.com | High quality programming t...</td>\n",
              "      <td>https://www.raywenderlich.com/&amp;sa=U&amp;ved=0ahUKE...</td>\n",
              "      <td>Learn from the best. ..... now live from my pa...</td>\n",
              "      <td>ray</td>\n",
              "    </tr>\n",
              "    <tr>\n",
              "      <th>0</th>\n",
              "      <td>iOS &amp; Swift Tutorials | raywenderlich.com</td>\n",
              "      <td>https://www.raywenderlich.com/ios&amp;sa=U&amp;ved=0ah...</td>\n",
              "      <td>Are you a beginner to iOS and Swift? Check out...</td>\n",
              "      <td>ray</td>\n",
              "    </tr>\n",
              "    <tr>\n",
              "      <th>0</th>\n",
              "      <td>V-Ray - Online Courses, Classes, Training, Tut...</td>\n",
              "      <td>https://www.lynda.com/V-Ray-training-tutorials...</td>\n",
              "      <td>Learn how to use V-Ray, from beginner basics t...</td>\n",
              "      <td>ray</td>\n",
              "    </tr>\n",
              "    <tr>\n",
              "      <th>0</th>\n",
              "      <td>Introduction to Ray Tracing: a Simple Method f...</td>\n",
              "      <td>https://www.scratchapixel.com/lessons/3d-basic...</td>\n",
              "      <td>You can also check the lesson An Overview of t...</td>\n",
              "      <td>ray</td>\n",
              "    </tr>\n",
              "    <tr>\n",
              "      <th>0</th>\n",
              "      <td>Learn V-Ray - Home | Facebook</td>\n",
              "      <td>https://www.facebook.com/learnvrayin5steps/&amp;sa...</td>\n",
              "      <td>Learn V-Ray - - Rated 4.8 based on 519 Reviews...</td>\n",
              "      <td>ray</td>\n",
              "    </tr>\n",
              "    <tr>\n",
              "      <th>0</th>\n",
              "      <td>raytracing - Books to learn Ray Tracing - Comp...</td>\n",
              "      <td>https://computergraphics.stackexchange.com/que...</td>\n",
              "      <td>For an introduction, you can give a look at: R...</td>\n",
              "      <td>ray</td>\n",
              "    </tr>\n",
              "    <tr>\n",
              "      <th>0</th>\n",
              "      <td>NVIDIA RTX Ray Tracing | NVIDIA Developer</td>\n",
              "      <td>https://developer.nvidia.com/rtx/raytracing&amp;sa...</td>\n",
              "      <td>Learn how to set up your Windows development e...</td>\n",
              "      <td>ray</td>\n",
              "    </tr>\n",
              "    <tr>\n",
              "      <th>0</th>\n",
              "      <td>RLlib: Scalable Reinforcement Learning — Ray 0...</td>\n",
              "      <td>https://ray.readthedocs.io/en/latest/rllib.htm...</td>\n",
              "      <td>RLlib is an open-source library for reinforcem...</td>\n",
              "      <td>ray</td>\n",
              "    </tr>\n",
              "    <tr>\n",
              "      <th>0</th>\n",
              "      <td>GitHub - ray-project/ray: A system for paralle...</td>\n",
              "      <td>https://github.com/ray-project/ray&amp;sa=U&amp;ved=0a...</td>\n",
              "      <td>Ray is a flexible, high-performance distribute...</td>\n",
              "      <td>ray</td>\n",
              "    </tr>\n",
              "    <tr>\n",
              "      <th>0</th>\n",
              "      <td>Learn How To Tune Like A Pro | Online Tuning C...</td>\n",
              "      <td>https://www.hpacademy.com/&amp;sa=U&amp;ved=0ahUKEwjy6...</td>\n",
              "      <td>Learn EFI engine tuning via online courses. Ea...</td>\n",
              "      <td>tune</td>\n",
              "    </tr>\n",
              "    <tr>\n",
              "      <th>0</th>\n",
              "      <td>How To Learn A Tune | Hal Galper</td>\n",
              "      <td>http://www.halgalper.com/articles/how-to-learn...</td>\n",
              "      <td>How To Learn A Tune Official Website for Harol...</td>\n",
              "      <td>tune</td>\n",
              "    </tr>\n",
              "    <tr>\n",
              "      <th>0</th>\n",
              "      <td>Do you want to learn to tune? Here is what you...</td>\n",
              "      <td>https://www.youtube.com/watch%3Fv%3Dx1OPUYMLnk...</td>\n",
              "      <td>Apr 30, 2014 - 4 min - Uploaded by TheTuningSc...</td>\n",
              "      <td>tune</td>\n",
              "    </tr>\n",
              "    <tr>\n",
              "      <th>0</th>\n",
              "      <td>How to Learn to Sing in Tune | Musical U</td>\n",
              "      <td>https://www.musical-u.com/learn/how-to-learn-t...</td>\n",
              "      <td>Nov 26, 2015 ... Have you wished you could sin...</td>\n",
              "      <td>tune</td>\n",
              "    </tr>\n",
              "    <tr>\n",
              "      <th>0</th>\n",
              "      <td>5 Secrets to Learning Tunes, Standards, and Pr...</td>\n",
              "      <td>https://www.jazzadvice.com/5-secrets-to-learni...</td>\n",
              "      <td>Mar 11, 2013 ... Everyone knows they should le...</td>\n",
              "      <td>tune</td>\n",
              "    </tr>\n",
              "    <tr>\n",
              "      <th>0</th>\n",
              "      <td>Where to begin with learning how to ecu tune? ...</td>\n",
              "      <td>https://www.reddit.com/r/cars/comments/2b8l2q/...</td>\n",
              "      <td>Hey all, After a lot of Google searching and f...</td>\n",
              "      <td>tune</td>\n",
              "    </tr>\n",
              "    <tr>\n",
              "      <th>0</th>\n",
              "      <td>Learning How to Tune a Piano – Piano Technicia...</td>\n",
              "      <td>https://www.pianotechnicianacademy.com/blogs/b...</td>\n",
              "      <td>Dec 21, 2012 ... Learning how to tune a piano ...</td>\n",
              "      <td>tune</td>\n",
              "    </tr>\n",
              "    <tr>\n",
              "      <th>0</th>\n",
              "      <td>EFI University: Home</td>\n",
              "      <td>https://www.efi101.com/&amp;sa=U&amp;ved=0ahUKEwjy6_yT...</td>\n",
              "      <td>Welcome to EFI University where you can learn ...</td>\n",
              "      <td>tune</td>\n",
              "    </tr>\n",
              "    <tr>\n",
              "      <th>0</th>\n",
              "      <td>A Simple Guide on How to Tune a Guitar - Thoug...</td>\n",
              "      <td>https://www.thoughtco.com/how-to-tune-a-guitar...</td>\n",
              "      <td>Perhaps the most frustrating aspect of learnin...</td>\n",
              "      <td>tune</td>\n",
              "    </tr>\n",
              "    <tr>\n",
              "      <th>0</th>\n",
              "      <td>tuning - How long would it take to learn to tu...</td>\n",
              "      <td>https://music.stackexchange.com/questions/9/ho...</td>\n",
              "      <td>I actually never learned the cost to have a pi...</td>\n",
              "      <td>tune</td>\n",
              "    </tr>\n",
              "    <tr>\n",
              "      <th>0</th>\n",
              "      <td>Knowledge Base | Modin Rigid Vinyl Plank Colle...</td>\n",
              "      <td>https://learn.flooret.com/modin-rigid-vinyl-pl...</td>\n",
              "      <td>Modin Rigid Vinyl Plank Collection. What is th...</td>\n",
              "      <td>modin</td>\n",
              "    </tr>\n",
              "    <tr>\n",
              "      <th>0</th>\n",
              "      <td>Knowledge Base | Installation</td>\n",
              "      <td>https://learn.flooret.com/installation&amp;sa=U&amp;ve...</td>\n",
              "      <td>Where can I download your technical documents ...</td>\n",
              "      <td>modin</td>\n",
              "    </tr>\n",
              "    <tr>\n",
              "      <th>0</th>\n",
              "      <td>GitHub - modin-project/modin: Modin: Speed up ...</td>\n",
              "      <td>https://github.com/modin-project/modin&amp;sa=U&amp;ve...</td>\n",
              "      <td>Modin: Speed up your Pandas workflows by chang...</td>\n",
              "      <td>modin</td>\n",
              "    </tr>\n",
              "    <tr>\n",
              "      <th>0</th>\n",
              "      <td>Camp Modin Heritage: Jewish Summer Camp: Belgr...</td>\n",
              "      <td>https://www.modin.com/Heritage&amp;sa=U&amp;ved=0ahUKE...</td>\n",
              "      <td>Located on a private, unspoiled lake, campers ...</td>\n",
              "      <td>modin</td>\n",
              "    </tr>\n",
              "    <tr>\n",
              "      <th>0</th>\n",
              "      <td>Modin Supported Methods — modin latest documen...</td>\n",
              "      <td>https://modin.readthedocs.io/en/latest/pandas_...</td>\n",
              "      <td>We did a study on pandas usage to learn what t...</td>\n",
              "      <td>modin</td>\n",
              "    </tr>\n",
              "    <tr>\n",
              "      <th>0</th>\n",
              "      <td>Learning to Scale Data Science, Machine Learni...</td>\n",
              "      <td>https://www.youtube.com/watch%3Fv%3D1sYuMFtMZQ...</td>\n",
              "      <td>Nov 29, 2018 - 29 min - Uploaded by PyDataPyDa...</td>\n",
              "      <td>modin</td>\n",
              "    </tr>\n",
              "    <tr>\n",
              "      <th>0</th>\n",
              "      <td>Scaling Interactive Pandas Workflows with Modi...</td>\n",
              "      <td>https://www.youtube.com/watch%3Fv%3D-HjLd_3ahC...</td>\n",
              "      <td>Feb 1, 2019 - 38 min - Uploaded by PyDataPyDat...</td>\n",
              "      <td>modin</td>\n",
              "    </tr>\n",
              "    <tr>\n",
              "      <th>0</th>\n",
              "      <td>Flooret - Introducing Modin Vinyl Plank | Face...</td>\n",
              "      <td>https://www.facebook.com/Flooret.Brand/videos/...</td>\n",
              "      <td>Jul 12, 2016 - 3 minLearn more about what make...</td>\n",
              "      <td>modin</td>\n",
              "    </tr>\n",
              "    <tr>\n",
              "      <th>0</th>\n",
              "      <td>PyVideo.org · Learning to Scale Data Science, ...</td>\n",
              "      <td>https://pyvideo.org/pydata-la-2018/learning-to...</td>\n",
              "      <td>Learning to Scale Data Science, Machine Learni...</td>\n",
              "      <td>modin</td>\n",
              "    </tr>\n",
              "    <tr>\n",
              "      <th>0</th>\n",
              "      <td>COMMENT: Forget Python, you need to learn to c...</td>\n",
              "      <td>https://news.efinancialcareers.com/uk-en/30005...</td>\n",
              "      <td>Mar 26, 2019 ... COMMENT: Forget Python, you n...</td>\n",
              "      <td>modin</td>\n",
              "    </tr>\n",
              "    <tr>\n",
              "      <th>0</th>\n",
              "      <td>GitHub - ethsociety/learn-plasma: Learn all ab...</td>\n",
              "      <td>https://github.com/ethsociety/learn-plasma&amp;sa=...</td>\n",
              "      <td>Learn all about Plasma with LearnPlasma! Contr...</td>\n",
              "      <td>plasma</td>\n",
              "    </tr>\n",
              "    <tr>\n",
              "      <th>0</th>\n",
              "      <td>How I started learning Plasma and What I've go...</td>\n",
              "      <td>https://medium.com/cryptoeconomics-lab/how-i-s...</td>\n",
              "      <td>Jan 7, 2019 ... Blockchain's scalability and a...</td>\n",
              "      <td>plasma</td>\n",
              "    </tr>\n",
              "    <tr>\n",
              "      <th>0</th>\n",
              "      <td>Learn Plasma Cutting | Learn PlasmaCam Courses</td>\n",
              "      <td>https://www.learnplasmacam.com/&amp;sa=U&amp;ved=0ahUK...</td>\n",
              "      <td>Learn Plasmacam. If you own a PlasmaCAM/Samson...</td>\n",
              "      <td>plasma</td>\n",
              "    </tr>\n",
              "    <tr>\n",
              "      <th>0</th>\n",
              "      <td>Learn Plasma – Hacker Noon</td>\n",
              "      <td>https://hackernoon.com/tagged/learn-plasma&amp;sa=...</td>\n",
              "      <td>Jan 9, 2019 ... Read writing about Learn Plasm...</td>\n",
              "      <td>plasma</td>\n",
              "    </tr>\n",
              "    <tr>\n",
              "      <th>0</th>\n",
              "      <td>Plasma Physics: Introduction - edX</td>\n",
              "      <td>https://www.edx.org/course/plasma-physics-intr...</td>\n",
              "      <td>Learn the basics of plasma, one of the fundame...</td>\n",
              "      <td>plasma</td>\n",
              "    </tr>\n",
              "    <tr>\n",
              "      <th>0</th>\n",
              "      <td>Images for learn plasma</td>\n",
              "      <td>?ie=UTF-8&amp;q=learn+plasma&amp;tbm=isch&amp;source=univ&amp;...</td>\n",
              "      <td></td>\n",
              "      <td>plasma</td>\n",
              "    </tr>\n",
              "    <tr>\n",
              "      <th>0</th>\n",
              "      <td>Arrow Learning Solutions | Enterprise Computin...</td>\n",
              "      <td>http://ecs.arrow.com/arrow-learning-solutions/...</td>\n",
              "      <td>Arrow Learning Solution delivers authorized tr...</td>\n",
              "      <td>arrow</td>\n",
              "    </tr>\n",
              "    <tr>\n",
              "      <th>0</th>\n",
              "      <td>Arrow ECS Education US</td>\n",
              "      <td>https://edu.arrow.com/us/&amp;sa=U&amp;ved=0ahUKEwi-77...</td>\n",
              "      <td>Arrow is a top Enterprise Computing Solutions ...</td>\n",
              "      <td>arrow</td>\n",
              "    </tr>\n",
              "    <tr>\n",
              "      <th>0</th>\n",
              "      <td>Arrow ECS</td>\n",
              "      <td>http://ecs.arrow.com/&amp;sa=U&amp;ved=0ahUKEwi-77yU75...</td>\n",
              "      <td>Stay Ahead of What's Next. Arrow ECS delivers ...</td>\n",
              "      <td>arrow</td>\n",
              "    </tr>\n",
              "    <tr>\n",
              "      <th>0</th>\n",
              "      <td>Electronic Components Online | Find Electronic...</td>\n",
              "      <td>https://www.arrow.com/&amp;sa=U&amp;ved=0ahUKEwi-77yU7...</td>\n",
              "      <td>Arrow.com is your resource for electronic comp...</td>\n",
              "      <td>arrow</td>\n",
              "    </tr>\n",
              "    <tr>\n",
              "      <th>0</th>\n",
              "      <td>Arrow Learning Center | Eos Positioning Systems</td>\n",
              "      <td>https://eos-gnss.com/learning-center/arrow-lea...</td>\n",
              "      <td>The Arrow Learning Center provides how-to arti...</td>\n",
              "      <td>arrow</td>\n",
              "    </tr>\n",
              "    <tr>\n",
              "      <th>0</th>\n",
              "      <td>Javascript Arrow Functions - Learn.co</td>\n",
              "      <td>https://learn.co/lessons/javascript-arrow-func...</td>\n",
              "      <td>Learn about Javascript Arrow Functions. Start ...</td>\n",
              "      <td>arrow</td>\n",
              "    </tr>\n",
              "    <tr>\n",
              "      <th>0</th>\n",
              "      <td>Arrow ECS UK - Arrow Education Services | Arro...</td>\n",
              "      <td>https://www.arrowecs.co.uk/services/education-...</td>\n",
              "      <td>As one of the Top 20 global IT training provid...</td>\n",
              "      <td>arrow</td>\n",
              "    </tr>\n",
              "    <tr>\n",
              "      <th>0</th>\n",
              "      <td>Arrow Five Years Out</td>\n",
              "      <td>https://www.fiveyearsout.com/&amp;sa=U&amp;ved=0ahUKEw...</td>\n",
              "      <td>Welcome to tangible future of Arrow Electronic...</td>\n",
              "      <td>arrow</td>\n",
              "    </tr>\n",
              "    <tr>\n",
              "      <th>0</th>\n",
              "      <td>DIY Arrow Re-Fletching | Learn How to Re-Fletc...</td>\n",
              "      <td>https://www.youtube.com/watch%3Fv%3DkyPiqTOTyX...</td>\n",
              "      <td>Mar 6, 2019 - 6 min - Uploaded by Randy Newber...</td>\n",
              "      <td>arrow</td>\n",
              "    </tr>\n",
              "    <tr>\n",
              "      <th>0</th>\n",
              "      <td>How to Shoot a Bow and Arrow: A Step-by-Step G...</td>\n",
              "      <td>https://www.completeguidetoarchery.com/how-to-...</td>\n",
              "      <td>Welcome to the Complete Guide to Archery! I've...</td>\n",
              "      <td>arrow</td>\n",
              "    </tr>\n",
              "  </tbody>\n",
              "</table>\n",
              "</div>"
            ],
            "text/plain": [
              "                                               title  ... library\n",
              "0      Learn V-Ray | Certified online V-Ray Training  ...     ray\n",
              "0  raywenderlich.com | High quality programming t...  ...     ray\n",
              "0          iOS & Swift Tutorials | raywenderlich.com  ...     ray\n",
              "0  V-Ray - Online Courses, Classes, Training, Tut...  ...     ray\n",
              "0  Introduction to Ray Tracing: a Simple Method f...  ...     ray\n",
              "0                      Learn V-Ray - Home | Facebook  ...     ray\n",
              "0  raytracing - Books to learn Ray Tracing - Comp...  ...     ray\n",
              "0          NVIDIA RTX Ray Tracing | NVIDIA Developer  ...     ray\n",
              "0  RLlib: Scalable Reinforcement Learning — Ray 0...  ...     ray\n",
              "0  GitHub - ray-project/ray: A system for paralle...  ...     ray\n",
              "0  Learn How To Tune Like A Pro | Online Tuning C...  ...    tune\n",
              "0                   How To Learn A Tune | Hal Galper  ...    tune\n",
              "0  Do you want to learn to tune? Here is what you...  ...    tune\n",
              "0           How to Learn to Sing in Tune | Musical U  ...    tune\n",
              "0  5 Secrets to Learning Tunes, Standards, and Pr...  ...    tune\n",
              "0  Where to begin with learning how to ecu tune? ...  ...    tune\n",
              "0  Learning How to Tune a Piano – Piano Technicia...  ...    tune\n",
              "0                               EFI University: Home  ...    tune\n",
              "0  A Simple Guide on How to Tune a Guitar - Thoug...  ...    tune\n",
              "0  tuning - How long would it take to learn to tu...  ...    tune\n",
              "0  Knowledge Base | Modin Rigid Vinyl Plank Colle...  ...   modin\n",
              "0                      Knowledge Base | Installation  ...   modin\n",
              "0  GitHub - modin-project/modin: Modin: Speed up ...  ...   modin\n",
              "0  Camp Modin Heritage: Jewish Summer Camp: Belgr...  ...   modin\n",
              "0  Modin Supported Methods — modin latest documen...  ...   modin\n",
              "0  Learning to Scale Data Science, Machine Learni...  ...   modin\n",
              "0  Scaling Interactive Pandas Workflows with Modi...  ...   modin\n",
              "0  Flooret - Introducing Modin Vinyl Plank | Face...  ...   modin\n",
              "0  PyVideo.org · Learning to Scale Data Science, ...  ...   modin\n",
              "0  COMMENT: Forget Python, you need to learn to c...  ...   modin\n",
              "0  GitHub - ethsociety/learn-plasma: Learn all ab...  ...  plasma\n",
              "0  How I started learning Plasma and What I've go...  ...  plasma\n",
              "0     Learn Plasma Cutting | Learn PlasmaCam Courses  ...  plasma\n",
              "0                         Learn Plasma – Hacker Noon  ...  plasma\n",
              "0                 Plasma Physics: Introduction - edX  ...  plasma\n",
              "0                            Images for learn plasma  ...  plasma\n",
              "0  Arrow Learning Solutions | Enterprise Computin...  ...   arrow\n",
              "0                             Arrow ECS Education US  ...   arrow\n",
              "0                                          Arrow ECS  ...   arrow\n",
              "0  Electronic Components Online | Find Electronic...  ...   arrow\n",
              "0    Arrow Learning Center | Eos Positioning Systems  ...   arrow\n",
              "0              Javascript Arrow Functions - Learn.co  ...   arrow\n",
              "0  Arrow ECS UK - Arrow Education Services | Arro...  ...   arrow\n",
              "0                               Arrow Five Years Out  ...   arrow\n",
              "0  DIY Arrow Re-Fletching | Learn How to Re-Fletc...  ...   arrow\n",
              "0  How to Shoot a Bow and Arrow: A Step-by-Step G...  ...   arrow\n",
              "\n",
              "[46 rows x 4 columns]"
            ]
          },
          "metadata": {
            "tags": []
          },
          "execution_count": 13
        }
      ]
    },
    {
      "cell_type": "code",
      "metadata": {
        "id": "czJc1YGEPicl",
        "colab_type": "code",
        "colab": {
          "base_uri": "https://localhost:8080/",
          "height": 35
        },
        "outputId": "0585fa0e-e835-4db4-bfc5-fe2935a30b25"
      },
      "source": [
        "start = time.time()\n",
        "keywords = [\"ray\", \"rllib\", \"tune\", \"modin\", \"plasma\", \"arrow\"]\n",
        "results = []\n",
        "for keyword in keywords:\n",
        "    df = get_results_remote.remote(keyword)\n",
        "    results.append(df)\n",
        "results = ray.get(results)    \n",
        "df = pd.concat(results)\n",
        "duration = time.time() - start\n",
        "print(\"Constructing the dataframe took {} seconds.\".format(duration))"
      ],
      "execution_count": 17,
      "outputs": [
        {
          "output_type": "stream",
          "text": [
            "Constructing the dataframe took 0.8743650913238525 seconds.\n"
          ],
          "name": "stdout"
        }
      ]
    },
    {
      "cell_type": "code",
      "metadata": {
        "id": "ZvviZdMLP0c7",
        "colab_type": "code",
        "colab": {}
      },
      "source": [
        ""
      ],
      "execution_count": 0,
      "outputs": []
    }
  ]
}