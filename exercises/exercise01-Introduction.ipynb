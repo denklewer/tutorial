{
  "nbformat": 4,
  "nbformat_minor": 0,
  "metadata": {
    "colab": {
      "name": "exercise01-Introduction.ipynb",
      "version": "0.3.2",
      "provenance": []
    },
    "language_info": {
      "codemirror_mode": {
        "name": "ipython",
        "version": 3
      },
      "file_extension": ".py",
      "mimetype": "text/x-python",
      "name": "python",
      "nbconvert_exporter": "python",
      "pygments_lexer": "ipython3",
      "version": "3.6.1"
    },
    "kernelspec": {
      "display_name": "Python 3",
      "language": "python",
      "name": "python3"
    }
  },
  "cells": [
    {
      "cell_type": "markdown",
      "metadata": {
        "id": "xnEl1CVILqKn",
        "colab_type": "text"
      },
      "source": [
        "# Exercise 1 - Simple Data Parallel Example\n",
        "\n",
        "**GOAL:** The goal of this exercise is to show how to run simple tasks in parallel.\n",
        "\n",
        "This script is too slow, and the computation is embarrassingly parallel. In this exercise, you will use Ray to execute the functions in parallel to speed it up.\n",
        "\n",
        "### Concept for this Exercise - Remote Functions\n",
        "\n",
        "The standard way to turn a Python function into a remote function is to add the `@ray.remote` decorator. Here is an example.\n",
        "\n",
        "```python\n",
        "# A regular Python function.\n",
        "def regular_function():\n",
        "    return 1\n",
        "\n",
        "# A Ray remote function.\n",
        "@ray.remote\n",
        "def remote_function():\n",
        "    return 1\n",
        "```\n",
        "\n",
        "The differences are the following:\n",
        "\n",
        "1. **Invocation:** The regular version is called with `regular_function()`, whereas the remote version is called with `remote_function.remote()`.\n",
        "2. **Return values:** `regular_function` immediately executes and returns `1`, whereas `remote_function` immediately returns an object ID (a future) and then creates a task that will be executed on a worker process. The result can be obtained with `ray.get`.\n",
        "    ```python\n",
        "    >>> regular_function()\n",
        "    1\n",
        "    \n",
        "    >>> remote_function.remote()\n",
        "    ObjectID(1c80d6937802cd7786ad25e50caf2f023c95e350)\n",
        "    \n",
        "    >>> ray.get(remote_function.remote())\n",
        "    1\n",
        "    ```\n",
        "3. **Parallelism:** Invocations of `regular_function` happen **serially**, for example\n",
        "    ```python\n",
        "    # These happen serially.\n",
        "    for _ in range(4):\n",
        "        regular_function()\n",
        "    ```\n",
        "    whereas invocations of `remote_function` happen in **parallel**, for example\n",
        "    ```python\n",
        "    # These happen in parallel.\n",
        "    for _ in range(4):\n",
        "        remote_function.remote()\n",
        "    ```"
      ]
    },
    {
      "cell_type": "code",
      "metadata": {
        "id": "Vzw0GQokLrpC",
        "colab_type": "code",
        "colab": {
          "base_uri": "https://localhost:8080/",
          "height": 35
        },
        "outputId": "67769ee7-81fc-4892-d55a-d69b05603f5f"
      },
      "source": [
        "\n",
        "import os\n",
        "os.system('pip install ray')"
      ],
      "execution_count": 1,
      "outputs": [
        {
          "output_type": "execute_result",
          "data": {
            "text/plain": [
              "0"
            ]
          },
          "metadata": {
            "tags": []
          },
          "execution_count": 1
        }
      ]
    },
    {
      "cell_type": "code",
      "metadata": {
        "id": "B3bgtjGfLqKu",
        "colab_type": "code",
        "colab": {}
      },
      "source": [
        "from __future__ import absolute_import\n",
        "from __future__ import division\n",
        "from __future__ import print_function\n",
        "\n",
        "import ray\n",
        "import time"
      ],
      "execution_count": 0,
      "outputs": []
    },
    {
      "cell_type": "markdown",
      "metadata": {
        "id": "ZG0cM9isLqLA",
        "colab_type": "text"
      },
      "source": [
        "Start Ray. By default, Ray does not schedule more tasks concurrently than there are CPUs. This example requires four tasks to run concurrently, so we tell Ray that there are four CPUs. Usually this is not done and Ray computes the number of CPUs using `psutil.cpu_count()`. The argument `ignore_reinit_error=True` just ignores errors if the cell is run multiple times.\n",
        "\n",
        "The call to `ray.init` starts a number of processes."
      ]
    },
    {
      "cell_type": "code",
      "metadata": {
        "id": "969ngIxkLqLD",
        "colab_type": "code",
        "colab": {
          "base_uri": "https://localhost:8080/",
          "height": 255
        },
        "outputId": "f9582bd7-a1be-4136-dfd9-1f3f5ff29137"
      },
      "source": [
        "ray.init(num_cpus=4, ignore_reinit_error=True, include_webui=False)"
      ],
      "execution_count": 3,
      "outputs": [
        {
          "output_type": "stream",
          "text": [
            "2019-05-16 10:28:11,594\tWARNING worker.py:1337 -- WARNING: Not updating worker name since `setproctitle` is not installed. Install this with `pip install setproctitle` (or ray[debug]) to enable monitoring of worker processes.\n",
            "2019-05-16 10:28:11,603\tINFO node.py:469 -- Process STDOUT and STDERR is being redirected to /tmp/ray/session_2019-05-16_10-28-11_116/logs.\n",
            "2019-05-16 10:28:11,717\tINFO services.py:407 -- Waiting for redis server at 127.0.0.1:18088 to respond...\n",
            "2019-05-16 10:28:11,848\tINFO services.py:407 -- Waiting for redis server at 127.0.0.1:46592 to respond...\n",
            "2019-05-16 10:28:11,851\tINFO services.py:804 -- Starting Redis shard with 2.58 GB max memory.\n",
            "2019-05-16 10:28:11,886\tINFO node.py:483 -- Process STDOUT and STDERR is being redirected to /tmp/ray/session_2019-05-16_10-28-11_116/logs.\n",
            "2019-05-16 10:28:11,889\tINFO services.py:1427 -- Starting the Plasma object store with 3.87 GB memory using /dev/shm.\n"
          ],
          "name": "stderr"
        },
        {
          "output_type": "execute_result",
          "data": {
            "text/plain": [
              "{'node_ip_address': '172.28.0.2',\n",
              " 'object_store_address': '/tmp/ray/session_2019-05-16_10-28-11_116/sockets/plasma_store',\n",
              " 'raylet_socket_name': '/tmp/ray/session_2019-05-16_10-28-11_116/sockets/raylet',\n",
              " 'redis_address': '172.28.0.2:18088',\n",
              " 'webui_url': None}"
            ]
          },
          "metadata": {
            "tags": []
          },
          "execution_count": 3
        }
      ]
    },
    {
      "cell_type": "markdown",
      "metadata": {
        "id": "7givaE4tLqLO",
        "colab_type": "text"
      },
      "source": [
        "**EXERCISE:** The function below is slow. Turn it into a remote function using the `@ray.remote` decorator."
      ]
    },
    {
      "cell_type": "code",
      "metadata": {
        "id": "W1psmwQhLqLR",
        "colab_type": "code",
        "colab": {}
      },
      "source": [
        "# This function is a proxy for a more interesting and computationally\n",
        "# intensive function.\n",
        "@ray.remote\n",
        "def slow_function(i):\n",
        "    time.sleep(1)\n",
        "    return i"
      ],
      "execution_count": 0,
      "outputs": []
    },
    {
      "cell_type": "markdown",
      "metadata": {
        "id": "FXltcaM4LqLd",
        "colab_type": "text"
      },
      "source": [
        "**EXERCISE:** The loop below takes too long. The four function calls could be executed in parallel. Instead of four seconds, it should only take one second. Once `slow_function` has been made a remote function, execute these four tasks in parallel by calling `slow_function.remote()`. Then obtain the results by calling `ray.get` on a list of the resulting object IDs."
      ]
    },
    {
      "cell_type": "code",
      "metadata": {
        "id": "sm1LxGRcLqLf",
        "colab_type": "code",
        "colab": {
          "base_uri": "https://localhost:8080/",
          "height": 35
        },
        "outputId": "6bb87ca1-b82f-4ea8-c5da-0f600d4383fd"
      },
      "source": [
        "# Sleep a little to improve the accuracy of the timing measurements below.\n",
        "# We do this because workers may still be starting up in the background.\n",
        "time.sleep(2.0)\n",
        "start_time = time.time()\n",
        "\n",
        "results = [slow_function.remote(i) for i in range(4)]\n",
        "results = ray.get(results)\n",
        "end_time = time.time()\n",
        "duration = end_time - start_time\n",
        "\n",
        "print('The results are {}. This took {} seconds. Run the next cell to see '\n",
        "      'if the exercise was done correctly.'.format(results, duration))"
      ],
      "execution_count": 7,
      "outputs": [
        {
          "output_type": "stream",
          "text": [
            "The results are [0, 1, 2, 3]. This took 1.005370855331421 seconds. Run the next cell to see if the exercise was done correctly.\n"
          ],
          "name": "stdout"
        }
      ]
    },
    {
      "cell_type": "markdown",
      "metadata": {
        "id": "JzIQngh7LqLm",
        "colab_type": "text"
      },
      "source": [
        "**VERIFY:** Run some checks to verify that the changes you made to the code were correct. Some of the checks should fail when you initially run the cells. After completing the exercises, the checks should pass."
      ]
    },
    {
      "cell_type": "code",
      "metadata": {
        "id": "qKF5QHPzLqLo",
        "colab_type": "code",
        "colab": {
          "base_uri": "https://localhost:8080/",
          "height": 35
        },
        "outputId": "e62730af-b3f1-4c7a-c0ba-1018fefde4e3"
      },
      "source": [
        "assert results == [0, 1, 2, 3], 'Did you remember to call ray.get?'\n",
        "assert duration < 1.1, ('The loop took {} seconds. This is too slow.'\n",
        "                        .format(duration))\n",
        "assert duration > 1, ('The loop took {} seconds. This is too fast.'\n",
        "                      .format(duration))\n",
        "\n",
        "print('Success! The example took {} seconds.'.format(duration))"
      ],
      "execution_count": 8,
      "outputs": [
        {
          "output_type": "stream",
          "text": [
            "Success! The example took 1.005370855331421 seconds.\n"
          ],
          "name": "stdout"
        }
      ]
    },
    {
      "cell_type": "markdown",
      "metadata": {
        "id": "V-iwIRt-LqLw",
        "colab_type": "text"
      },
      "source": [
        "**EXERCISE:** Use the UI to view the task timeline and to verify that the four tasks were executed in parallel. To do this, run the following cell to generate a JSON file containing the profiling data. Open [chrome://tracing/](chrome://tracing/) in your browser, click on the \"Load\" button and load the JSON file.\n",
        "\n",
        "- Using the **second** button, you can click and drag to **move** the timeline.\n",
        "- Using the **third** button, you can click and drag to **zoom**. You can also zoom by holding \\\"alt\\\" and scrolling.\n",
        "\n",
        "**NOTE:** If you are on Binder, use the link below to download the file on you laptop (right click and select \"Save As\") and then load it in [chrome://tracing/](chrome://tracing/).\n",
        "\n",
        "**NOTE:** The timeline visualization will only work in **Chrome**."
      ]
    },
    {
      "cell_type": "code",
      "metadata": {
        "id": "qafIF7SkLqL3",
        "colab_type": "code",
        "colab": {}
      },
      "source": [
        "ray.global_state.chrome_tracing_dump(filename=\"/tmp/timeline01.json\")"
      ],
      "execution_count": 0,
      "outputs": []
    },
    {
      "cell_type": "markdown",
      "metadata": {
        "id": "fJYeCKtMLqMC",
        "colab_type": "text"
      },
      "source": [
        "Download link for Binder: http://localhost:8000/timeline01.json"
      ]
    },
    {
      "cell_type": "code",
      "metadata": {
        "id": "c-Im5gS3MBSi",
        "colab_type": "code",
        "colab": {}
      },
      "source": [
        ""
      ],
      "execution_count": 0,
      "outputs": []
    }
  ]
}