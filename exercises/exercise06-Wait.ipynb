{
  "nbformat": 4,
  "nbformat_minor": 0,
  "metadata": {
    "colab": {
      "name": "exercise06-Wait.ipynb",
      "version": "0.3.2",
      "provenance": []
    },
    "language_info": {
      "codemirror_mode": {
        "name": "ipython",
        "version": 3
      },
      "file_extension": ".py",
      "mimetype": "text/x-python",
      "name": "python",
      "nbconvert_exporter": "python",
      "pygments_lexer": "ipython3",
      "version": "3.6.1"
    },
    "kernelspec": {
      "display_name": "Python 3",
      "language": "python",
      "name": "python3"
    }
  },
  "cells": [
    {
      "cell_type": "markdown",
      "metadata": {
        "id": "8dPDumxZdOUQ",
        "colab_type": "text"
      },
      "source": [
        "# Exercise 6 - Handling Slow Tasks\n",
        "\n",
        "**GOAL:** The goal of this exercise is to show how to use `ray.wait` to avoid waiting for slow tasks.\n",
        "\n",
        "See the documentation for `ray.wait` at https://ray.readthedocs.io/en/latest/api.html#ray.wait.\n",
        "\n",
        "### Concepts for this Exercise - ray.wait\n",
        "\n",
        "After launching a number of tasks, you may want to know which ones have finished executing. This can be done with `ray.wait`. The function works as follows.\n",
        "\n",
        "```python\n",
        "ready_ids, remaining_ids = ray.wait(object_ids, num_returns=1, timeout=None)\n",
        "```\n",
        "\n",
        "**Arguments:**\n",
        "- `object_ids`: This is a list of object IDs.\n",
        "- `num_returns`: This is maximum number of object IDs to wait for. The default value is `1`.\n",
        "- `timeout`: This is the maximum amount of time in milliseconds to wait for. So `ray.wait` will block until either `num_returns` objects are ready or until `timeout` milliseconds have passed.\n",
        "\n",
        "**Return values:**\n",
        "- `ready_ids`: This is a list of object IDs that are available in the object store.\n",
        "- `remaining_ids`: This is a list of the IDs that were in `object_ids` but are not in `ready_ids`, so the IDs in `ready_ids` and `remaining_ids` together make up all the IDs in `object_ids`."
      ]
    },
    {
      "cell_type": "code",
      "metadata": {
        "id": "na4GpXcLdcUm",
        "colab_type": "code",
        "colab": {
          "base_uri": "https://localhost:8080/",
          "height": 35
        },
        "outputId": "0961edf5-55b4-4356-af94-2d3a376768b7"
      },
      "source": [
        "import os\n",
        "os.system('pip install ray')"
      ],
      "execution_count": 1,
      "outputs": [
        {
          "output_type": "execute_result",
          "data": {
            "text/plain": [
              "0"
            ]
          },
          "metadata": {
            "tags": []
          },
          "execution_count": 1
        }
      ]
    },
    {
      "cell_type": "code",
      "metadata": {
        "id": "KluB3P7fdOUV",
        "colab_type": "code",
        "colab": {}
      },
      "source": [
        "from __future__ import absolute_import\n",
        "from __future__ import division\n",
        "from __future__ import print_function\n",
        "\n",
        "import numpy as np\n",
        "import ray\n",
        "import time"
      ],
      "execution_count": 0,
      "outputs": []
    },
    {
      "cell_type": "code",
      "metadata": {
        "id": "VPq1s2fKdOUi",
        "colab_type": "code",
        "colab": {
          "base_uri": "https://localhost:8080/",
          "height": 255
        },
        "outputId": "fc78b2a9-eb22-4f1a-b44e-ac886f2a1372"
      },
      "source": [
        "ray.init(num_cpus=6, include_webui=False, ignore_reinit_error=True)"
      ],
      "execution_count": 3,
      "outputs": [
        {
          "output_type": "stream",
          "text": [
            "2019-05-16 11:45:50,478\tWARNING worker.py:1337 -- WARNING: Not updating worker name since `setproctitle` is not installed. Install this with `pip install setproctitle` (or ray[debug]) to enable monitoring of worker processes.\n",
            "2019-05-16 11:45:50,488\tINFO node.py:469 -- Process STDOUT and STDERR is being redirected to /tmp/ray/session_2019-05-16_11-45-50_121/logs.\n",
            "2019-05-16 11:45:50,598\tINFO services.py:407 -- Waiting for redis server at 127.0.0.1:11916 to respond...\n",
            "2019-05-16 11:45:50,737\tINFO services.py:407 -- Waiting for redis server at 127.0.0.1:32277 to respond...\n",
            "2019-05-16 11:45:50,744\tINFO services.py:804 -- Starting Redis shard with 2.58 GB max memory.\n",
            "2019-05-16 11:45:50,778\tINFO node.py:483 -- Process STDOUT and STDERR is being redirected to /tmp/ray/session_2019-05-16_11-45-50_121/logs.\n",
            "2019-05-16 11:45:50,781\tINFO services.py:1427 -- Starting the Plasma object store with 3.87 GB memory using /dev/shm.\n"
          ],
          "name": "stderr"
        },
        {
          "output_type": "execute_result",
          "data": {
            "text/plain": [
              "{'node_ip_address': '172.28.0.2',\n",
              " 'object_store_address': '/tmp/ray/session_2019-05-16_11-45-50_121/sockets/plasma_store',\n",
              " 'raylet_socket_name': '/tmp/ray/session_2019-05-16_11-45-50_121/sockets/raylet',\n",
              " 'redis_address': '172.28.0.2:11916',\n",
              " 'webui_url': None}"
            ]
          },
          "metadata": {
            "tags": []
          },
          "execution_count": 3
        }
      ]
    },
    {
      "cell_type": "markdown",
      "metadata": {
        "id": "Ue4Yp9PjdOUr",
        "colab_type": "text"
      },
      "source": [
        "Define a remote function that takes a variable amount of time to run."
      ]
    },
    {
      "cell_type": "code",
      "metadata": {
        "id": "J4yIYI2odOUt",
        "colab_type": "code",
        "colab": {}
      },
      "source": [
        "@ray.remote\n",
        "def f(i):\n",
        "    np.random.seed(5 + i)\n",
        "    x = np.random.uniform(0, 4)\n",
        "    time.sleep(x)\n",
        "    return i, time.time()"
      ],
      "execution_count": 0,
      "outputs": []
    },
    {
      "cell_type": "markdown",
      "metadata": {
        "id": "oFsSCAW9dOVB",
        "colab_type": "text"
      },
      "source": [
        "**EXERCISE:** Using `ray.wait`, change the code below so that `initial_results` consists of the outputs of the first three tasks to complete instead of the first three tasks that were submitted."
      ]
    },
    {
      "cell_type": "code",
      "metadata": {
        "id": "eY2U89xudOVE",
        "colab_type": "code",
        "colab": {
          "base_uri": "https://localhost:8080/",
          "height": 73
        },
        "outputId": "6a7deaca-77b8-4c51-d011-c6028c6c5389"
      },
      "source": [
        "# Sleep a little to improve the accuracy of the timing measurements below.\n",
        "time.sleep(2.0)\n",
        "start_time = time.time()\n",
        "\n",
        "# This launches 6 tasks, each of which takes a random amount of time to\n",
        "# complete.\n",
        "result_ids = [f.remote(i) for i in range(6)]\n",
        "# Get one batch of tasks. Instead of waiting for a fixed subset of tasks, we\n",
        "# should instead use the first 3 tasks that finish.\n",
        "initial_results , remaining_ids = ray.wait(result_ids, num_returns=3, timeout=None)\n",
        "initial_results = ray.get(initial_results)\n",
        "end_time = time.time()\n",
        "duration = end_time - start_time\n",
        "print(\"ready\", initial_results)\n",
        "print(\"remaining\", remaining_ids)"
      ],
      "execution_count": 12,
      "outputs": [
        {
          "output_type": "stream",
          "text": [
            "ready [(0, 1558007481.0837038), (2, 1558007480.5026531), (4, 1558007480.2386622)]\n",
            "remaining [ObjectID(0100000087fbd26f5a2c2ba3ddf50804cd65ace7), ObjectID(010000003f3bc4889b86e7aa0ec8a7344c0457c6), ObjectID(010000001eb0269a9da52e1d00683b361c268f12)]\n"
          ],
          "name": "stdout"
        }
      ]
    },
    {
      "cell_type": "markdown",
      "metadata": {
        "id": "W8IAr0TqdOVP",
        "colab_type": "text"
      },
      "source": [
        "**EXERCISE:** Change the code below so that `remaining_results` consists of the outputs of the last three tasks to complete."
      ]
    },
    {
      "cell_type": "code",
      "metadata": {
        "id": "_zzNd9frdOVS",
        "colab_type": "code",
        "colab": {}
      },
      "source": [
        "# Wait for the remaining tasks to complete.\n",
        "remaining_results = ray.get(remaining_ids)"
      ],
      "execution_count": 0,
      "outputs": []
    },
    {
      "cell_type": "markdown",
      "metadata": {
        "id": "V-URrRrWdOVY",
        "colab_type": "text"
      },
      "source": [
        "**VERIFY:** Run some checks to verify that the changes you made to the code were correct. Some of the checks should fail when you initially run the cells. After completing the exercises, the checks should pass."
      ]
    },
    {
      "cell_type": "code",
      "metadata": {
        "id": "y37mz4eMdOVa",
        "colab_type": "code",
        "colab": {
          "base_uri": "https://localhost:8080/",
          "height": 35
        },
        "outputId": "63f048e6-f93f-482c-ca5b-d216d1c850d1"
      },
      "source": [
        "assert len(initial_results) == 3\n",
        "assert len(remaining_results) == 3\n",
        "\n",
        "initial_indices = [result[0] for result in initial_results]\n",
        "initial_times = [result[1] for result in initial_results]\n",
        "remaining_indices = [result[0] for result in remaining_results]\n",
        "remaining_times = [result[1] for result in remaining_results]\n",
        "\n",
        "assert set(initial_indices + remaining_indices) == set(range(6))\n",
        "\n",
        "assert duration < 1.5, ('The initial batch of ten tasks was retrieved in '\n",
        "                        '{} seconds. This is too slow.'.format(duration))\n",
        "\n",
        "assert duration > 0.8, ('The initial batch of ten tasks was retrieved in '\n",
        "                        '{} seconds. This is too slow.'.format(duration))\n",
        "\n",
        "# Make sure the initial results actually completed first.\n",
        "assert max(initial_times) < min(remaining_times)\n",
        "\n",
        "print('Success! The example took {} seconds.'.format(duration))"
      ],
      "execution_count": 14,
      "outputs": [
        {
          "output_type": "stream",
          "text": [
            "Success! The example took 0.8934965133666992 seconds.\n"
          ],
          "name": "stdout"
        }
      ]
    },
    {
      "cell_type": "code",
      "metadata": {
        "id": "OeQPq6LRdOVq",
        "colab_type": "code",
        "colab": {}
      },
      "source": [
        ""
      ],
      "execution_count": 0,
      "outputs": []
    }
  ]
}