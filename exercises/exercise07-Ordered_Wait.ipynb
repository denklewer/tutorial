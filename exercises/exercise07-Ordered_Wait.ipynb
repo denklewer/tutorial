{
  "nbformat": 4,
  "nbformat_minor": 0,
  "metadata": {
    "colab": {
      "name": "exercise07-Ordered_Wait.ipynb",
      "version": "0.3.2",
      "provenance": []
    },
    "language_info": {
      "codemirror_mode": {
        "name": "ipython",
        "version": 3
      },
      "file_extension": ".py",
      "mimetype": "text/x-python",
      "name": "python",
      "nbconvert_exporter": "python",
      "pygments_lexer": "ipython3",
      "version": "3.6.1"
    },
    "kernelspec": {
      "display_name": "Python 3",
      "language": "python",
      "name": "python3"
    }
  },
  "cells": [
    {
      "cell_type": "markdown",
      "metadata": {
        "id": "8Jv4_4bFfJUA",
        "colab_type": "text"
      },
      "source": [
        "# Exercise 7 - Process Tasks in Order of Completion\n",
        "\n",
        "**GOAL:** The goal of this exercise is to show how to use `ray.wait` to process tasks in the order that they finish.\n",
        "\n",
        "See the documentation for ray.wait at https://ray.readthedocs.io/en/latest/api.html#ray.wait.\n",
        "\n",
        "## Concepts for this exercise - `ray.wait`\n",
        "\n",
        "After launching a number of tasks, you may want to run the results sequentially. To do so, we build off of exercise 6 and use `ray.wait` to execute the results sequentially. \n",
        "\n",
        "We are able to use `ray.wait` because the two lists returned by **`ray.wait` maintains the ordering of the input list**. That is, if `f` is a remote function, the code \n",
        "```python\n",
        "    results = ray.wait([f.remote(i) for i in range(100)], num_results=10)\n",
        "```\n",
        "will return `(ready_list, remain_list)` and the `ObjectID`s of in those lists will be ordered by the argument passed to `f` above."
      ]
    },
    {
      "cell_type": "code",
      "metadata": {
        "id": "UJe03QLEfcFD",
        "colab_type": "code",
        "colab": {
          "base_uri": "https://localhost:8080/",
          "height": 35
        },
        "outputId": "1b515949-2caa-403d-c492-cf6a78d10d9c"
      },
      "source": [
        "import os\n",
        "os.system('pip install ray')"
      ],
      "execution_count": 1,
      "outputs": [
        {
          "output_type": "execute_result",
          "data": {
            "text/plain": [
              "0"
            ]
          },
          "metadata": {
            "tags": []
          },
          "execution_count": 1
        }
      ]
    },
    {
      "cell_type": "code",
      "metadata": {
        "id": "BiG9mW4FfJUF",
        "colab_type": "code",
        "colab": {}
      },
      "source": [
        "from __future__ import absolute_import\n",
        "from __future__ import division\n",
        "from __future__ import print_function\n",
        "\n",
        "import numpy as np\n",
        "import ray\n",
        "import time"
      ],
      "execution_count": 0,
      "outputs": []
    },
    {
      "cell_type": "code",
      "metadata": {
        "id": "gvzxk9ckfJUW",
        "colab_type": "code",
        "colab": {
          "base_uri": "https://localhost:8080/",
          "height": 255
        },
        "outputId": "9711319b-45e4-4d3a-d74b-a23a5202f8bc"
      },
      "source": [
        "ray.init(num_cpus=5, include_webui=False, ignore_reinit_error=True)"
      ],
      "execution_count": 3,
      "outputs": [
        {
          "output_type": "stream",
          "text": [
            "2019-05-16 11:54:25,083\tWARNING worker.py:1337 -- WARNING: Not updating worker name since `setproctitle` is not installed. Install this with `pip install setproctitle` (or ray[debug]) to enable monitoring of worker processes.\n",
            "2019-05-16 11:54:25,087\tINFO node.py:469 -- Process STDOUT and STDERR is being redirected to /tmp/ray/session_2019-05-16_11-54-25_126/logs.\n",
            "2019-05-16 11:54:25,206\tINFO services.py:407 -- Waiting for redis server at 127.0.0.1:20636 to respond...\n",
            "2019-05-16 11:54:25,338\tINFO services.py:407 -- Waiting for redis server at 127.0.0.1:61669 to respond...\n",
            "2019-05-16 11:54:25,341\tINFO services.py:804 -- Starting Redis shard with 2.58 GB max memory.\n",
            "2019-05-16 11:54:25,384\tINFO node.py:483 -- Process STDOUT and STDERR is being redirected to /tmp/ray/session_2019-05-16_11-54-25_126/logs.\n",
            "2019-05-16 11:54:25,387\tINFO services.py:1427 -- Starting the Plasma object store with 3.87 GB memory using /dev/shm.\n"
          ],
          "name": "stderr"
        },
        {
          "output_type": "execute_result",
          "data": {
            "text/plain": [
              "{'node_ip_address': '172.28.0.2',\n",
              " 'object_store_address': '/tmp/ray/session_2019-05-16_11-54-25_126/sockets/plasma_store',\n",
              " 'raylet_socket_name': '/tmp/ray/session_2019-05-16_11-54-25_126/sockets/raylet',\n",
              " 'redis_address': '172.28.0.2:20636',\n",
              " 'webui_url': None}"
            ]
          },
          "metadata": {
            "tags": []
          },
          "execution_count": 3
        }
      ]
    },
    {
      "cell_type": "code",
      "metadata": {
        "id": "YFFCkC1RfJUe",
        "colab_type": "code",
        "colab": {}
      },
      "source": [
        "@ray.remote\n",
        "def f():\n",
        "    time.sleep(np.random.uniform(0, 5))\n",
        "    return time.time()"
      ],
      "execution_count": 0,
      "outputs": []
    },
    {
      "cell_type": "markdown",
      "metadata": {
        "id": "1oBaUPlWfJUq",
        "colab_type": "text"
      },
      "source": [
        "**EXERCISE:** Change the code below to use `ray.wait` to get the results of the tasks in the order that they complete.\n",
        "\n",
        "**NOTE:** It would be a simple modification to maintain a pool of 10 experiments and to start a new experiment whenever one finishes."
      ]
    },
    {
      "cell_type": "code",
      "metadata": {
        "id": "z9G0cH_ffJUs",
        "colab_type": "code",
        "colab": {
          "base_uri": "https://localhost:8080/",
          "height": 199
        },
        "outputId": "b623f3b5-b989-46b8-dc8d-bc23fc1c7b1b"
      },
      "source": [
        "# Sleep a little to improve the accuracy of the timing measurements below.\n",
        "time.sleep(2.0)\n",
        "start_time = time.time()\n",
        "\n",
        "result_ids = [f.remote() for _ in range(10)]\n",
        "                                    \n",
        "\n",
        "# Get the results.\n",
        "results = []\n",
        "while True:\n",
        "   completed_ids, remaining_ids = ray.wait(result_ids, num_returns=1, timeout=None)\n",
        "   result_ids =  remaining_ids\n",
        "   result = ray.get(completed_ids[0])\n",
        "   results.append(result)\n",
        "   print('Processing result which finished after {} seconds.'\n",
        "          .format(result - start_time))\n",
        "   if len(result_ids) == 0:\n",
        "    break\n",
        "    \n",
        "end_time = time.time()\n",
        "duration = end_time - start_time\n",
        "\n",
        "   \n",
        "\n",
        "\n"
      ],
      "execution_count": 17,
      "outputs": [
        {
          "output_type": "stream",
          "text": [
            "Processing result which finished after 0.10110354423522949 seconds.\n",
            "Processing result which finished after 1.6244089603424072 seconds.\n",
            "Processing result which finished after 2.1286706924438477 seconds.\n",
            "Processing result which finished after 2.2877707481384277 seconds.\n",
            "Processing result which finished after 2.4664018154144287 seconds.\n",
            "Processing result which finished after 2.5016775131225586 seconds.\n",
            "Processing result which finished after 2.8285279273986816 seconds.\n",
            "Processing result which finished after 6.1847755908966064 seconds.\n",
            "Processing result which finished after 6.212692975997925 seconds.\n",
            "Processing result which finished after 6.596499919891357 seconds.\n"
          ],
          "name": "stdout"
        }
      ]
    },
    {
      "cell_type": "markdown",
      "metadata": {
        "id": "d77kaFG6fJUz",
        "colab_type": "text"
      },
      "source": [
        "**VERIFY:** Run some checks to verify that the changes you made to the code were correct. Some of the checks should fail when you initially run the cells. After completing the exercises, the checks should pass."
      ]
    },
    {
      "cell_type": "code",
      "metadata": {
        "id": "BwNPaS5ofJU1",
        "colab_type": "code",
        "colab": {
          "base_uri": "https://localhost:8080/",
          "height": 35
        },
        "outputId": "811e5b16-be18-453c-e386-e202acaa2cfa"
      },
      "source": [
        "assert results == sorted(results), ('The results were not processed in the '\n",
        "                                    'order that they finished.')\n",
        "\n",
        "print('Success! The example took {} seconds.'.format(duration))"
      ],
      "execution_count": 18,
      "outputs": [
        {
          "output_type": "stream",
          "text": [
            "Success! The example took 6.598791122436523 seconds.\n"
          ],
          "name": "stdout"
        }
      ]
    },
    {
      "cell_type": "code",
      "metadata": {
        "id": "9E6N5AYkfJU6",
        "colab_type": "code",
        "colab": {}
      },
      "source": [
        ""
      ],
      "execution_count": 0,
      "outputs": []
    }
  ]
}