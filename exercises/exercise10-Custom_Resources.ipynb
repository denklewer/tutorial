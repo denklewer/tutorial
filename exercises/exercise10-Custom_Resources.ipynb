{
  "nbformat": 4,
  "nbformat_minor": 0,
  "metadata": {
    "colab": {
      "name": "exercise10-Custom_Resources.ipynb",
      "version": "0.3.2",
      "provenance": []
    },
    "language_info": {
      "codemirror_mode": {
        "name": "ipython",
        "version": 3
      },
      "file_extension": ".py",
      "mimetype": "text/x-python",
      "name": "python",
      "nbconvert_exporter": "python",
      "pygments_lexer": "ipython3",
      "version": "3.6.1"
    },
    "kernelspec": {
      "display_name": "Python 3",
      "language": "python",
      "name": "python3"
    }
  },
  "cells": [
    {
      "cell_type": "markdown",
      "metadata": {
        "id": "6JigITiEoivU",
        "colab_type": "text"
      },
      "source": [
        "# Exercise 10 - Custom Resources\n",
        "\n",
        "**GOAL:** The goal of this exercise is to show how to use custom resources\n",
        "\n",
        "See the documentation on using Ray with custom resources http://ray.readthedocs.io/en/latest/resources.html#custom-resources.\n",
        "\n",
        "### Concepts for this Exercise - Using Custom Resources\n",
        "\n",
        "We've discussed how to specify a task's CPU and GPU requirements, but there are many other kinds of resources. For example, a task may require a dataset, which only lives on a few machines, or it may need to be scheduled on a machine with extra memory. These kinds of requirements can be expressed through the use of custom resources.\n",
        "\n",
        "Custom resources are most useful in the multi-machine setting. However, this exercise illustrates their usage in the single-machine setting.\n",
        "\n",
        "Ray can be started with a dictionary of custom resources (mapping resource name to resource quantity) as follows.\n",
        "\n",
        "```python\n",
        "ray.init(resources={'CustomResource1': 1, 'CustomResource2': 4})\n",
        "```\n",
        "\n",
        "The resource requirements of a remote function or actor can be specified in a similar way.\n",
        "\n",
        "```python\n",
        "@ray.remote(resources={'CustomResource2': 1})\n",
        "def f():\n",
        "    return 1\n",
        "```\n",
        "\n",
        "Even if there are many CPUs on the machine, only 4 copies of `f` can be executed concurrently.\n",
        "\n",
        "Custom resources give applications a great deal of flexibility. For example, if you wish to control precisely which machine a task gets scheduled on, you can simply start each machine with a different custom resource (e.g., start machine `n` with resource `Custom_n` and then tasks that should be scheduled on machine `n` can require resource `Custom_n`. However, this usage has drawbacks because it makes the code less portable and less resilient to machine failures."
      ]
    },
    {
      "cell_type": "code",
      "metadata": {
        "id": "lQpfOtljo2MY",
        "colab_type": "code",
        "colab": {
          "base_uri": "https://localhost:8080/",
          "height": 35
        },
        "outputId": "9903ebec-f444-4394-c80a-f8b07360ea1f"
      },
      "source": [
        "import os\n",
        "os.system('pip install ray')"
      ],
      "execution_count": 1,
      "outputs": [
        {
          "output_type": "execute_result",
          "data": {
            "text/plain": [
              "0"
            ]
          },
          "metadata": {
            "tags": []
          },
          "execution_count": 1
        }
      ]
    },
    {
      "cell_type": "code",
      "metadata": {
        "id": "NxidcFVAoivd",
        "colab_type": "code",
        "colab": {}
      },
      "source": [
        "from __future__ import absolute_import\n",
        "from __future__ import division\n",
        "from __future__ import print_function\n",
        "\n",
        "import ray\n",
        "import time"
      ],
      "execution_count": 0,
      "outputs": []
    },
    {
      "cell_type": "markdown",
      "metadata": {
        "id": "nHRVBy4toivr",
        "colab_type": "text"
      },
      "source": [
        "In this exercise, we will start Ray using custom resources."
      ]
    },
    {
      "cell_type": "code",
      "metadata": {
        "id": "q4EGF7YCoivt",
        "colab_type": "code",
        "colab": {
          "base_uri": "https://localhost:8080/",
          "height": 255
        },
        "outputId": "c1802479-dd19-484e-b4d5-6a25f5c25067"
      },
      "source": [
        "ray.init(num_cpus=8, resources={'Custom1': 4}, include_webui=False, ignore_reinit_error=True)"
      ],
      "execution_count": 3,
      "outputs": [
        {
          "output_type": "stream",
          "text": [
            "2019-05-16 12:35:43,765\tWARNING worker.py:1337 -- WARNING: Not updating worker name since `setproctitle` is not installed. Install this with `pip install setproctitle` (or ray[debug]) to enable monitoring of worker processes.\n",
            "2019-05-16 12:35:43,769\tINFO node.py:469 -- Process STDOUT and STDERR is being redirected to /tmp/ray/session_2019-05-16_12-35-43_131/logs.\n",
            "2019-05-16 12:35:43,886\tINFO services.py:407 -- Waiting for redis server at 127.0.0.1:12014 to respond...\n",
            "2019-05-16 12:35:44,015\tINFO services.py:407 -- Waiting for redis server at 127.0.0.1:49338 to respond...\n",
            "2019-05-16 12:35:44,019\tINFO services.py:804 -- Starting Redis shard with 2.58 GB max memory.\n",
            "2019-05-16 12:35:44,051\tINFO node.py:483 -- Process STDOUT and STDERR is being redirected to /tmp/ray/session_2019-05-16_12-35-43_131/logs.\n",
            "2019-05-16 12:35:44,054\tINFO services.py:1427 -- Starting the Plasma object store with 3.87 GB memory using /dev/shm.\n"
          ],
          "name": "stderr"
        },
        {
          "output_type": "execute_result",
          "data": {
            "text/plain": [
              "{'node_ip_address': '172.28.0.2',\n",
              " 'object_store_address': '/tmp/ray/session_2019-05-16_12-35-43_131/sockets/plasma_store',\n",
              " 'raylet_socket_name': '/tmp/ray/session_2019-05-16_12-35-43_131/sockets/raylet',\n",
              " 'redis_address': '172.28.0.2:12014',\n",
              " 'webui_url': None}"
            ]
          },
          "metadata": {
            "tags": []
          },
          "execution_count": 3
        }
      ]
    },
    {
      "cell_type": "markdown",
      "metadata": {
        "id": "if5CXlW8oiv3",
        "colab_type": "text"
      },
      "source": [
        "**EXERCISE:** Modify the resource requirements of the remote functions below so that the following hold.\n",
        "- The number of concurrently executing tasks is at most 8 (note that there are 8 CPUs).\n",
        "- No more than 4 copies of `g` can execute concurrently (note that there are only 4 \"Custom1\" resources).\n",
        "- If 4 `g` tasks are executing, then an additional 4 `f` tasks can execute.\n",
        "\n",
        "You should only need to use the `Custom1` resource."
      ]
    },
    {
      "cell_type": "code",
      "metadata": {
        "id": "H2rFUAfvoiv7",
        "colab_type": "code",
        "colab": {}
      },
      "source": [
        "@ray.remote(num_cpus = 1)\n",
        "def f():\n",
        "    time.sleep(0.1)\n",
        "\n",
        "@ray.remote(resources={'Custom1': 1})\n",
        "def g():\n",
        "    time.sleep(0.1)"
      ],
      "execution_count": 0,
      "outputs": []
    },
    {
      "cell_type": "markdown",
      "metadata": {
        "id": "G_vzien4oiwF",
        "colab_type": "text"
      },
      "source": [
        "If you did the above exercise correctly, the next cell should execute without raising an exception."
      ]
    },
    {
      "cell_type": "code",
      "metadata": {
        "id": "-VToJV-hoiwH",
        "colab_type": "code",
        "colab": {
          "base_uri": "https://localhost:8080/",
          "height": 35
        },
        "outputId": "c46854c5-3e35-4f0d-c291-de033d20259b"
      },
      "source": [
        "start = time.time()\n",
        "ray.get([f.remote() for _ in range(8)])\n",
        "duration = time.time() - start \n",
        "assert duration >= 0.1 and duration < 0.19, '8 f tasks should be able to execute concurrently.'\n",
        "\n",
        "start = time.time()\n",
        "ray.get([f.remote() for _ in range(9)])\n",
        "duration = time.time() - start \n",
        "assert duration >= 0.2 and duration < 0.29, 'f tasks should not be able to execute concurrently.'\n",
        "\n",
        "start = time.time()\n",
        "ray.get([g.remote() for _ in range(4)])\n",
        "duration = time.time() - start \n",
        "assert duration >= 0.1 and duration < 0.19, '4 g tasks should be able to execute concurrently.'\n",
        "\n",
        "start = time.time()\n",
        "ray.get([g.remote() for _ in range(5)])\n",
        "duration = time.time() - start \n",
        "assert duration >= 0.2 and duration < 0.29, '5 g tasks should not be able to execute concurrently.'\n",
        "\n",
        "start = time.time()\n",
        "ray.get([f.remote() for _ in range(4)] + [g.remote() for _ in range(4)])\n",
        "duration = time.time() - start \n",
        "assert duration >= 0.1 and duration < 0.19, '4 f and 4 g tasks should be able to execute concurrently.'\n",
        "\n",
        "start = time.time()\n",
        "ray.get([f.remote() for _ in range(5)] + [g.remote() for _ in range(4)])\n",
        "duration = time.time() - start \n",
        "assert duration >= 0.2 and duration < 0.29, '5 f and 4 g tasks should not be able to execute concurrently.'\n",
        "\n",
        "print('Success!')"
      ],
      "execution_count": 11,
      "outputs": [
        {
          "output_type": "stream",
          "text": [
            "Success!\n"
          ],
          "name": "stdout"
        }
      ]
    },
    {
      "cell_type": "code",
      "metadata": {
        "id": "KmxwKqb1oiwP",
        "colab_type": "code",
        "colab": {}
      },
      "source": [
        ""
      ],
      "execution_count": 0,
      "outputs": []
    }
  ]
}