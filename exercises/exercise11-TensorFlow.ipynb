{
  "nbformat": 4,
  "nbformat_minor": 0,
  "metadata": {
    "colab": {
      "name": "exercise11-TensorFlow.ipynb",
      "version": "0.3.2",
      "provenance": []
    },
    "language_info": {
      "codemirror_mode": {
        "name": "ipython",
        "version": 3
      },
      "file_extension": ".py",
      "mimetype": "text/x-python",
      "name": "python",
      "nbconvert_exporter": "python",
      "pygments_lexer": "ipython3",
      "version": "3.6.1"
    },
    "kernelspec": {
      "display_name": "Python 3",
      "language": "python",
      "name": "python3"
    }
  },
  "cells": [
    {
      "cell_type": "markdown",
      "metadata": {
        "id": "NCVqfE9grnA7",
        "colab_type": "text"
      },
      "source": [
        "# Exercise 11 - Pass Neural Net Weights Between Processes\n",
        "\n",
        "**GOAL:** The goal of this exercise is to show how to send neural network weights between workers and the driver.\n",
        "\n",
        "For more details on using Ray with TensorFlow, see the documentation at http://ray.readthedocs.io/en/latest/using-ray-with-tensorflow.html.\n",
        "\n",
        "### Concepts for this Exercise - Getting and Setting Neural Net Weights\n",
        "\n",
        "Since pickling and unpickling a TensorFlow graph can be inefficient or may not work at all, it is most efficient to ship the weights between processes as a dictionary of numpy arrays (or as a flattened numpy array).\n",
        "\n",
        "We provide the helper class `ray.experimental.TensorFlowVariables` to help with getting and setting weights. Similar techniques should work other neural net libraries.\n",
        "\n",
        "Consider the following neural net definition.\n",
        "\n",
        "```python\n",
        "import tensorflow as tf\n",
        "\n",
        "x_data = tf.placeholder(tf.float32, shape=[100])\n",
        "y_data = tf.placeholder(tf.float32, shape=[100])\n",
        "\n",
        "w = tf.Variable(tf.random_uniform([1], -1.0, 1.0))\n",
        "b = tf.Variable(tf.zeros([1]))\n",
        "y = w * x_data + b\n",
        "\n",
        "loss = tf.reduce_mean(tf.square(y - y_data))\n",
        "optimizer = tf.train.GradientDescentOptimizer(0.5)\n",
        "grads = optimizer.compute_gradients(loss)\n",
        "train = optimizer.apply_gradients(grads)\n",
        "\n",
        "init = tf.global_variables_initializer()\n",
        "sess = tf.Session()\n",
        "sess.run(init)\n",
        "```\n",
        "\n",
        "Then we can use the helper class as follows.\n",
        "\n",
        "```python\n",
        "variables = ray.experimental.TensorFlowVariables(loss, sess)\n",
        "# Here 'weights' is a dictionary mapping variable names to the associated\n",
        "# weights as a numpy array.\n",
        "weights = variables.get_weights()\n",
        "variables.set_weights(weights)\n",
        "```\n",
        "\n",
        "Note that there are analogous methods `variables.get_flat` and `variables.set_flat`, which concatenate the weights as a single array instead of a dictionary.\n",
        "\n",
        "```python\n",
        "# Here 'weights' is a numpy array of all of the neural net weights\n",
        "# concatenated together.\n",
        "weights = variables.get_flat()\n",
        "variables.set_flat(weights)\n",
        "```\n",
        "\n",
        "In this exercise, we will use an actor containing a neural network and implement methods to extract and set the neural net weights.\n",
        "\n",
        "**WARNING:** This exercise is more complex than previous exercises."
      ]
    },
    {
      "cell_type": "code",
      "metadata": {
        "id": "EriDLWkXsNpv",
        "colab_type": "code",
        "colab": {
          "base_uri": "https://localhost:8080/",
          "height": 35
        },
        "outputId": "bdab96c5-98b7-4282-ce3f-a7e5a2b5bf8e"
      },
      "source": [
        "import os\n",
        "os.system('pip install ray')"
      ],
      "execution_count": 1,
      "outputs": [
        {
          "output_type": "execute_result",
          "data": {
            "text/plain": [
              "0"
            ]
          },
          "metadata": {
            "tags": []
          },
          "execution_count": 1
        }
      ]
    },
    {
      "cell_type": "code",
      "metadata": {
        "id": "W0nX750BrnA_",
        "colab_type": "code",
        "colab": {}
      },
      "source": [
        "from __future__ import absolute_import\n",
        "from __future__ import division\n",
        "from __future__ import print_function\n",
        "\n",
        "import numpy as np\n",
        "import ray\n",
        "import tensorflow as tf\n",
        "import time"
      ],
      "execution_count": 0,
      "outputs": []
    },
    {
      "cell_type": "code",
      "metadata": {
        "id": "WmOdbe8IrnBN",
        "colab_type": "code",
        "colab": {
          "base_uri": "https://localhost:8080/",
          "height": 255
        },
        "outputId": "cd01f983-487a-4393-bb4a-88999e658a5f"
      },
      "source": [
        "ray.init(num_cpus=4, include_webui=False, ignore_reinit_error=True)"
      ],
      "execution_count": 3,
      "outputs": [
        {
          "output_type": "stream",
          "text": [
            "2019-05-16 12:51:04,861\tWARNING worker.py:1337 -- WARNING: Not updating worker name since `setproctitle` is not installed. Install this with `pip install setproctitle` (or ray[debug]) to enable monitoring of worker processes.\n",
            "2019-05-16 12:51:04,865\tINFO node.py:469 -- Process STDOUT and STDERR is being redirected to /tmp/ray/session_2019-05-16_12-51-04_127/logs.\n",
            "2019-05-16 12:51:04,984\tINFO services.py:407 -- Waiting for redis server at 127.0.0.1:58485 to respond...\n",
            "2019-05-16 12:51:05,120\tINFO services.py:407 -- Waiting for redis server at 127.0.0.1:13781 to respond...\n",
            "2019-05-16 12:51:05,124\tINFO services.py:804 -- Starting Redis shard with 2.58 GB max memory.\n",
            "2019-05-16 12:51:05,168\tINFO node.py:483 -- Process STDOUT and STDERR is being redirected to /tmp/ray/session_2019-05-16_12-51-04_127/logs.\n",
            "2019-05-16 12:51:05,173\tINFO services.py:1427 -- Starting the Plasma object store with 3.87 GB memory using /dev/shm.\n"
          ],
          "name": "stderr"
        },
        {
          "output_type": "execute_result",
          "data": {
            "text/plain": [
              "{'node_ip_address': '172.28.0.2',\n",
              " 'object_store_address': '/tmp/ray/session_2019-05-16_12-51-04_127/sockets/plasma_store',\n",
              " 'raylet_socket_name': '/tmp/ray/session_2019-05-16_12-51-04_127/sockets/raylet',\n",
              " 'redis_address': '172.28.0.2:58485',\n",
              " 'webui_url': None}"
            ]
          },
          "metadata": {
            "tags": []
          },
          "execution_count": 3
        }
      ]
    },
    {
      "cell_type": "markdown",
      "metadata": {
        "id": "tevoRhjbrnBW",
        "colab_type": "text"
      },
      "source": [
        "The code below defines a class containing a simple neural network.\n",
        "\n",
        "**EXERCISE:** Implement the `set_weights` and `get_weights` methods. This should be done using the `ray.experimental.TensorFlowVariables` helper class."
      ]
    },
    {
      "cell_type": "code",
      "metadata": {
        "id": "9xPt1i3DrnBY",
        "colab_type": "code",
        "colab": {}
      },
      "source": [
        "from ray.experimental.tf_utils import TensorFlowVariables\n",
        "@ray.remote\n",
        "class SimpleModel(object):\n",
        "    def __init__(self):\n",
        "        x_data = tf.placeholder(tf.float32, shape=[100])\n",
        "        y_data = tf.placeholder(tf.float32, shape=[100])\n",
        "\n",
        "        w = tf.Variable(tf.random_uniform([1], -1.0, 1.0))\n",
        "        b = tf.Variable(tf.zeros([1]))\n",
        "        y = w * x_data + b\n",
        "\n",
        "        self.loss = tf.reduce_mean(tf.square(y - y_data))\n",
        "        optimizer = tf.train.GradientDescentOptimizer(0.5)\n",
        "        grads = optimizer.compute_gradients(self.loss)\n",
        "        self.train = optimizer.apply_gradients(grads)\n",
        "\n",
        "        init = tf.global_variables_initializer()\n",
        "        self.sess = tf.Session()\n",
        "\n",
        "        # Here we create the TensorFlowVariables object to assist with getting\n",
        "        # and setting weights.\n",
        "        self.variables = TensorFlowVariables(self.loss, self.sess)\n",
        "\n",
        "        self.sess.run(init)\n",
        "\n",
        "    def set_weights(self, weights):\n",
        "        \"\"\"Set the neural net weights.\n",
        "        \n",
        "        This method should assign the given weights to the neural net.\n",
        "        \n",
        "        Args:\n",
        "            weights: Either a dict mapping strings (the variable names) to numpy\n",
        "                arrays or a single flattened numpy array containing all of the\n",
        "                concatenated weights.\n",
        "        \"\"\"\n",
        "        self.variables.set_weights(weights)\n",
        "\n",
        "\n",
        "    def get_weights(self):\n",
        "        \"\"\"Get the neural net weights.\n",
        "        \n",
        "        This method should return the current neural net weights.\n",
        "        \n",
        "        Returns:\n",
        "            Either a dict mapping strings (the variable names) to numpy arrays or\n",
        "                a single flattened numpy array containing all of the concatenated\n",
        "                weights.\n",
        "        \"\"\"\n",
        "        # EXERCISE: You will want to use self.variables here.\n",
        "        return self.variables.get_weights()"
      ],
      "execution_count": 0,
      "outputs": []
    },
    {
      "cell_type": "markdown",
      "metadata": {
        "id": "QzEaQ9mQrnBh",
        "colab_type": "text"
      },
      "source": [
        "Create a few actors."
      ]
    },
    {
      "cell_type": "code",
      "metadata": {
        "id": "sgC-pJv4rnBk",
        "colab_type": "code",
        "colab": {}
      },
      "source": [
        "actors = [SimpleModel.remote() for _ in range(4)]"
      ],
      "execution_count": 0,
      "outputs": []
    },
    {
      "cell_type": "markdown",
      "metadata": {
        "id": "w9HYep2ZrnBr",
        "colab_type": "text"
      },
      "source": [
        "**EXERCISE:** Get the neural net weights from all of the actors."
      ]
    },
    {
      "cell_type": "code",
      "metadata": {
        "id": "az-zNvJcrnBt",
        "colab_type": "code",
        "colab": {}
      },
      "source": [
        "weights = [actor.get_weights.remote() for actor in actors]"
      ],
      "execution_count": 0,
      "outputs": []
    },
    {
      "cell_type": "markdown",
      "metadata": {
        "id": "JNmSZZjBrnB1",
        "colab_type": "text"
      },
      "source": [
        "**EXERCISE:** Average all of the neural net weights.\n",
        "\n",
        "**NOTE:** This will be easier to do if you chose to use `get_flat`/`set_flat` instead of `get_weights`/`set_weights` in the implementation of `SimpleModel.set_weights` and `SimpleModel.get_weights` above.."
      ]
    },
    {
      "cell_type": "code",
      "metadata": {
        "id": "tHeoARGovkkN",
        "colab_type": "code",
        "colab": {
          "base_uri": "https://localhost:8080/",
          "height": 162
        },
        "outputId": "a908d1d8-2f61-44db-b38b-b86169a04ec4"
      },
      "source": [
        "weights"
      ],
      "execution_count": 16,
      "outputs": [
        {
          "output_type": "execute_result",
          "data": {
            "text/plain": [
              "[{'Variable': array([0.6736324], dtype=float32),\n",
              "  'Variable_1': array([0.], dtype=float32)},\n",
              " {'Variable': array([0.5061171], dtype=float32),\n",
              "  'Variable_1': array([0.], dtype=float32)},\n",
              " {'Variable': array([-0.840116], dtype=float32),\n",
              "  'Variable_1': array([0.], dtype=float32)},\n",
              " {'Variable': array([-0.5187366], dtype=float32),\n",
              "  'Variable_1': array([0.], dtype=float32)}]"
            ]
          },
          "metadata": {
            "tags": []
          },
          "execution_count": 16
        }
      ]
    },
    {
      "cell_type": "code",
      "metadata": {
        "id": "Ji0s60sfrnB6",
        "colab_type": "code",
        "colab": {}
      },
      "source": [
        "weights = ray.get(weights)\n",
        "mean_weights = {}\n",
        "for variable in weights[0]:\n",
        "  values = [weight[variable] for weight in weights]\n",
        "  mean_weights[variable] = np.mean(values, axis=0)"
      ],
      "execution_count": 0,
      "outputs": []
    },
    {
      "cell_type": "markdown",
      "metadata": {
        "id": "tJ_qZuxkrnCK",
        "colab_type": "text"
      },
      "source": [
        "**EXERCISE:** Set the average weights on the actors."
      ]
    },
    {
      "cell_type": "code",
      "metadata": {
        "id": "R26aiuXkrnCL",
        "colab_type": "code",
        "colab": {}
      },
      "source": [
        "for actor in actors:\n",
        "  actor.set_weights.remote(mean_weights)"
      ],
      "execution_count": 0,
      "outputs": []
    },
    {
      "cell_type": "markdown",
      "metadata": {
        "id": "-t8UtG89rnCS",
        "colab_type": "text"
      },
      "source": [
        "**VERIFY:** Check that all of the actors have the same weights."
      ]
    },
    {
      "cell_type": "code",
      "metadata": {
        "id": "D4iACenrrnCY",
        "colab_type": "code",
        "colab": {
          "base_uri": "https://localhost:8080/",
          "height": 35
        },
        "outputId": "5547ee74-2af7-4bb0-f773-b2a88989615c"
      },
      "source": [
        "weights = ray.get([actor.get_weights.remote() for actor in actors])\n",
        "\n",
        "for i in range(len(weights)):\n",
        "    np.testing.assert_equal(weights[i], weights[0])\n",
        "\n",
        "print('Success! The test passed.')"
      ],
      "execution_count": 19,
      "outputs": [
        {
          "output_type": "stream",
          "text": [
            "Success! The test passed.\n"
          ],
          "name": "stdout"
        }
      ]
    },
    {
      "cell_type": "code",
      "metadata": {
        "id": "A7PjDaqZwBwr",
        "colab_type": "code",
        "colab": {}
      },
      "source": [
        ""
      ],
      "execution_count": 0,
      "outputs": []
    }
  ]
}